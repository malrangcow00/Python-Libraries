{
 "cells": [
  {
   "cell_type": "markdown",
   "source": [
    "# OpenCV\n",
    "OpenCV, Open Source Computer Vision Libraary"
   ],
   "metadata": {
    "collapsed": false
   },
   "id": "48478abe56d5fc2a"
  },
  {
   "cell_type": "markdown",
   "source": [
    "[OpenCV](https://076923.github.io/posts/Python-opencv-1/)"
   ],
   "metadata": {
    "collapsed": false
   },
   "id": "ec25ac9d5f2f5664"
  },
  {
   "cell_type": "markdown",
   "source": [
    "# Installation\n",
    "OpenCV provides 4 packages below\n",
    "```bash\n",
    "pip install opencv-python\n",
    "pip install opencv-contrib-python\n",
    "pip install opencv-python-headless\n",
    "pip install opencv-contrib-python-headless\n",
    "```"
   ],
   "metadata": {
    "collapsed": false
   },
   "id": "5940a009e52f41b0"
  },
  {
   "cell_type": "code",
   "outputs": [],
   "source": [
    "import cv2"
   ],
   "metadata": {
    "collapsed": false,
    "ExecuteTime": {
     "end_time": "2024-04-04T08:29:46.995690Z",
     "start_time": "2024-04-04T08:29:46.898164Z"
    }
   },
   "id": "4324713259ee03ab",
   "execution_count": 1
  },
  {
   "cell_type": "code",
   "outputs": [
    {
     "name": "stdout",
     "output_type": "stream",
     "text": [
      "4.9.0\n"
     ]
    }
   ],
   "source": [
    "print(cv2.__version__)"
   ],
   "metadata": {
    "collapsed": false,
    "ExecuteTime": {
     "end_time": "2024-04-04T08:29:50.653464Z",
     "start_time": "2024-04-04T08:29:50.649193Z"
    }
   },
   "id": "68a560c3c12d853b",
   "execution_count": 2
  },
  {
   "cell_type": "code",
   "outputs": [],
   "source": [
    "import numpy"
   ],
   "metadata": {
    "collapsed": false,
    "ExecuteTime": {
     "end_time": "2024-04-04T08:29:53.819436Z",
     "start_time": "2024-04-04T08:29:53.816525Z"
    }
   },
   "id": "c30dc7fbbde15902",
   "execution_count": 3
  },
  {
   "cell_type": "code",
   "outputs": [],
   "source": [
    "file_path = \"../assets/\""
   ],
   "metadata": {
    "collapsed": false,
    "ExecuteTime": {
     "end_time": "2024-04-04T08:29:54.972936Z",
     "start_time": "2024-04-04T08:29:54.969211Z"
    }
   },
   "id": "18f287bea3c4082",
   "execution_count": 4
  },
  {
   "cell_type": "code",
   "outputs": [
    {
     "ename": "error",
     "evalue": "OpenCV(4.9.0) D:\\a\\opencv-python\\opencv-python\\opencv\\modules\\highgui\\src\\window.cpp:1272: error: (-2:Unspecified error) The function is not implemented. Rebuild the library with Windows, GTK+ 2.x or Cocoa support. If you are on Ubuntu or Debian, install libgtk2.0-dev and pkg-config, then re-run cmake or configure script in function 'cvShowImage'\n",
     "output_type": "error",
     "traceback": [
      "\u001B[1;31m---------------------------------------------------------------------------\u001B[0m",
      "\u001B[1;31merror\u001B[0m                                     Traceback (most recent call last)",
      "Cell \u001B[1;32mIn[8], line 3\u001B[0m\n\u001B[0;32m      1\u001B[0m \u001B[38;5;66;03m# image = cv2.imread(file_path + \"cs.jpg\", cv2.IMREAD_UNCHANGED)\u001B[39;00m\n\u001B[0;32m      2\u001B[0m image \u001B[38;5;241m=\u001B[39m cv2\u001B[38;5;241m.\u001B[39mimread(file_path \u001B[38;5;241m+\u001B[39m \u001B[38;5;124m\"\u001B[39m\u001B[38;5;124mcs.jpg\u001B[39m\u001B[38;5;124m\"\u001B[39m)\n\u001B[1;32m----> 3\u001B[0m \u001B[43mcv2\u001B[49m\u001B[38;5;241;43m.\u001B[39;49m\u001B[43mimshow\u001B[49m\u001B[43m(\u001B[49m\u001B[38;5;124;43m\"\u001B[39;49m\u001B[38;5;124;43mcs\u001B[39;49m\u001B[38;5;124;43m\"\u001B[39;49m\u001B[43m,\u001B[49m\u001B[43m \u001B[49m\u001B[43mimage\u001B[49m\u001B[43m)\u001B[49m\n\u001B[0;32m      4\u001B[0m \u001B[38;5;66;03m# cv2.waitKey(0)\u001B[39;00m\n\u001B[0;32m      5\u001B[0m \u001B[38;5;66;03m# cv2.destroyAllWindows()\u001B[39;00m\n",
      "\u001B[1;31merror\u001B[0m: OpenCV(4.9.0) D:\\a\\opencv-python\\opencv-python\\opencv\\modules\\highgui\\src\\window.cpp:1272: error: (-2:Unspecified error) The function is not implemented. Rebuild the library with Windows, GTK+ 2.x or Cocoa support. If you are on Ubuntu or Debian, install libgtk2.0-dev and pkg-config, then re-run cmake or configure script in function 'cvShowImage'\n"
     ]
    }
   ],
   "source": [
    "# image = cv2.imread(file_path + \"cs.jpg\", cv2.IMREAD_UNCHANGED)\n",
    "image = cv2.imread(file_path + \"cs.jpg\")\n",
    "cv2.imshow(\"cs\", image).0\n",
    "# cv2.waitKey(0)\n",
    "# cv2.destroyAllWindows()"
   ],
   "metadata": {
    "collapsed": false,
    "ExecuteTime": {
     "end_time": "2024-04-04T08:31:03.822979Z",
     "start_time": "2024-04-04T08:31:03.799042Z"
    }
   },
   "id": "e6cf9b68b32ca049",
   "execution_count": 8
  },
  {
   "cell_type": "code",
   "outputs": [],
   "source": [],
   "metadata": {
    "collapsed": false
   },
   "id": "e27709423becb342"
  }
 ],
 "metadata": {
  "kernelspec": {
   "display_name": "Python 3",
   "language": "python",
   "name": "python3"
  },
  "language_info": {
   "codemirror_mode": {
    "name": "ipython",
    "version": 2
   },
   "file_extension": ".py",
   "mimetype": "text/x-python",
   "name": "python",
   "nbconvert_exporter": "python",
   "pygments_lexer": "ipython2",
   "version": "2.7.6"
  }
 },
 "nbformat": 4,
 "nbformat_minor": 5
}

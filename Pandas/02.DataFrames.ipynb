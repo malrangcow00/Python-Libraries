{
 "cells": [
  {
   "cell_type": "markdown",
   "metadata": {
    "collapsed": true
   },
   "source": [
    "# DataFrames\n",
    "\n",
    "DataFrames are the workhorse of pandas and are directly inspired by the R programming language. We can think of a DataFrame as a bunch of Series objects put together to share the same index. Let's use pandas to explore this topic!"
   ]
  },
  {
   "cell_type": "code",
   "execution_count": 149,
   "metadata": {
    "ExecuteTime": {
     "end_time": "2024-02-29T06:33:09.136267Z",
     "start_time": "2024-02-29T06:33:09.133892Z"
    }
   },
   "outputs": [],
   "source": [
    "import pandas as pd\n",
    "import numpy as np"
   ]
  },
  {
   "cell_type": "code",
   "execution_count": 150,
   "metadata": {
    "ExecuteTime": {
     "end_time": "2024-02-29T06:33:09.495011Z",
     "start_time": "2024-02-29T06:33:09.491989Z"
    }
   },
   "outputs": [
    {
     "name": "stdout",
     "output_type": "stream",
     "text": [
      "[[ 2.70684984  0.62813271  0.90796945  0.50382575]\n",
      " [ 0.65111795 -0.31931804 -0.84807698  0.60596535]\n",
      " [-2.01816824  0.74012206  0.52881349 -0.58900053]\n",
      " [ 0.18869531 -0.75887206 -0.93323722  0.95505651]\n",
      " [ 0.19079432  1.97875732  2.60596728  0.68350889]]\n"
     ]
    }
   ],
   "source": [
    "from numpy.random import randn\n",
    "np.random.seed(101)\n",
    "\n",
    "rand_mat = randn(5,4)\n",
    "\n",
    "# IntellJ should \"print\" to use array as array not as matrix.\n",
    "print(rand_mat)"
   ]
  },
  {
   "cell_type": "code",
   "execution_count": 151,
   "metadata": {
    "ExecuteTime": {
     "end_time": "2024-02-29T06:33:09.965210Z",
     "start_time": "2024-02-29T06:33:09.958719Z"
    }
   },
   "outputs": [
    {
     "data": {
      "text/plain": "          0         1         2         3\n0  2.706850  0.628133  0.907969  0.503826\n1  0.651118 -0.319318 -0.848077  0.605965\n2 -2.018168  0.740122  0.528813 -0.589001\n3  0.188695 -0.758872 -0.933237  0.955057\n4  0.190794  1.978757  2.605967  0.683509",
      "text/html": "<div>\n<style scoped>\n    .dataframe tbody tr th:only-of-type {\n        vertical-align: middle;\n    }\n\n    .dataframe tbody tr th {\n        vertical-align: top;\n    }\n\n    .dataframe thead th {\n        text-align: right;\n    }\n</style>\n<table border=\"1\" class=\"dataframe\">\n  <thead>\n    <tr style=\"text-align: right;\">\n      <th></th>\n      <th>0</th>\n      <th>1</th>\n      <th>2</th>\n      <th>3</th>\n    </tr>\n  </thead>\n  <tbody>\n    <tr>\n      <th>0</th>\n      <td>2.706850</td>\n      <td>0.628133</td>\n      <td>0.907969</td>\n      <td>0.503826</td>\n    </tr>\n    <tr>\n      <th>1</th>\n      <td>0.651118</td>\n      <td>-0.319318</td>\n      <td>-0.848077</td>\n      <td>0.605965</td>\n    </tr>\n    <tr>\n      <th>2</th>\n      <td>-2.018168</td>\n      <td>0.740122</td>\n      <td>0.528813</td>\n      <td>-0.589001</td>\n    </tr>\n    <tr>\n      <th>3</th>\n      <td>0.188695</td>\n      <td>-0.758872</td>\n      <td>-0.933237</td>\n      <td>0.955057</td>\n    </tr>\n    <tr>\n      <th>4</th>\n      <td>0.190794</td>\n      <td>1.978757</td>\n      <td>2.605967</td>\n      <td>0.683509</td>\n    </tr>\n  </tbody>\n</table>\n</div>"
     },
     "execution_count": 151,
     "metadata": {},
     "output_type": "execute_result"
    }
   ],
   "source": [
    "df = pd.DataFrame(data=rand_mat)\n",
    "df"
   ]
  },
  {
   "cell_type": "code",
   "outputs": [
    {
     "data": {
      "text/plain": "          W         X         Y         Z\nA  2.706850  0.628133  0.907969  0.503826\nB  0.651118 -0.319318 -0.848077  0.605965\nC -2.018168  0.740122  0.528813 -0.589001\nD  0.188695 -0.758872 -0.933237  0.955057\nE  0.190794  1.978757  2.605967  0.683509",
      "text/html": "<div>\n<style scoped>\n    .dataframe tbody tr th:only-of-type {\n        vertical-align: middle;\n    }\n\n    .dataframe tbody tr th {\n        vertical-align: top;\n    }\n\n    .dataframe thead th {\n        text-align: right;\n    }\n</style>\n<table border=\"1\" class=\"dataframe\">\n  <thead>\n    <tr style=\"text-align: right;\">\n      <th></th>\n      <th>W</th>\n      <th>X</th>\n      <th>Y</th>\n      <th>Z</th>\n    </tr>\n  </thead>\n  <tbody>\n    <tr>\n      <th>A</th>\n      <td>2.706850</td>\n      <td>0.628133</td>\n      <td>0.907969</td>\n      <td>0.503826</td>\n    </tr>\n    <tr>\n      <th>B</th>\n      <td>0.651118</td>\n      <td>-0.319318</td>\n      <td>-0.848077</td>\n      <td>0.605965</td>\n    </tr>\n    <tr>\n      <th>C</th>\n      <td>-2.018168</td>\n      <td>0.740122</td>\n      <td>0.528813</td>\n      <td>-0.589001</td>\n    </tr>\n    <tr>\n      <th>D</th>\n      <td>0.188695</td>\n      <td>-0.758872</td>\n      <td>-0.933237</td>\n      <td>0.955057</td>\n    </tr>\n    <tr>\n      <th>E</th>\n      <td>0.190794</td>\n      <td>1.978757</td>\n      <td>2.605967</td>\n      <td>0.683509</td>\n    </tr>\n  </tbody>\n</table>\n</div>"
     },
     "execution_count": 152,
     "metadata": {},
     "output_type": "execute_result"
    }
   ],
   "source": [
    "df = pd.DataFrame(rand_mat, index='A B C D E'.split(),columns='W X Y Z'.split())\n",
    "df"
   ],
   "metadata": {
    "collapsed": false,
    "ExecuteTime": {
     "end_time": "2024-02-29T06:33:10.549816Z",
     "start_time": "2024-02-29T06:33:10.543268Z"
    }
   },
   "execution_count": 152
  },
  {
   "cell_type": "code",
   "execution_count": 153,
   "metadata": {
    "collapsed": true,
    "ExecuteTime": {
     "end_time": "2024-02-29T06:33:11.025278Z",
     "start_time": "2024-02-29T06:33:11.019816Z"
    }
   },
   "outputs": [
    {
     "data": {
      "text/plain": "          W         X         Y         Z\nA  2.706850  0.628133  0.907969  0.503826\nB  0.651118 -0.319318 -0.848077  0.605965\nC -2.018168  0.740122  0.528813 -0.589001\nD  0.188695 -0.758872 -0.933237  0.955057\nE  0.190794  1.978757  2.605967  0.683509",
      "text/html": "<div>\n<style scoped>\n    .dataframe tbody tr th:only-of-type {\n        vertical-align: middle;\n    }\n\n    .dataframe tbody tr th {\n        vertical-align: top;\n    }\n\n    .dataframe thead th {\n        text-align: right;\n    }\n</style>\n<table border=\"1\" class=\"dataframe\">\n  <thead>\n    <tr style=\"text-align: right;\">\n      <th></th>\n      <th>W</th>\n      <th>X</th>\n      <th>Y</th>\n      <th>Z</th>\n    </tr>\n  </thead>\n  <tbody>\n    <tr>\n      <th>A</th>\n      <td>2.706850</td>\n      <td>0.628133</td>\n      <td>0.907969</td>\n      <td>0.503826</td>\n    </tr>\n    <tr>\n      <th>B</th>\n      <td>0.651118</td>\n      <td>-0.319318</td>\n      <td>-0.848077</td>\n      <td>0.605965</td>\n    </tr>\n    <tr>\n      <th>C</th>\n      <td>-2.018168</td>\n      <td>0.740122</td>\n      <td>0.528813</td>\n      <td>-0.589001</td>\n    </tr>\n    <tr>\n      <th>D</th>\n      <td>0.188695</td>\n      <td>-0.758872</td>\n      <td>-0.933237</td>\n      <td>0.955057</td>\n    </tr>\n    <tr>\n      <th>E</th>\n      <td>0.190794</td>\n      <td>1.978757</td>\n      <td>2.605967</td>\n      <td>0.683509</td>\n    </tr>\n  </tbody>\n</table>\n</div>"
     },
     "execution_count": 153,
     "metadata": {},
     "output_type": "execute_result"
    }
   ],
   "source": [
    "df = pd.DataFrame(data=rand_mat, index='A B C D E'.split(),columns='W X Y Z'.split())\n",
    "df"
   ]
  },
  {
   "cell_type": "markdown",
   "metadata": {},
   "source": [
    "## Selection and Indexing\n",
    "\n",
    "Let's learn the various methods to grab data from a DataFrame"
   ]
  },
  {
   "cell_type": "code",
   "execution_count": 154,
   "metadata": {
    "ExecuteTime": {
     "end_time": "2024-02-29T06:33:11.978219Z",
     "start_time": "2024-02-29T06:33:11.974196Z"
    }
   },
   "outputs": [
    {
     "data": {
      "text/plain": "A    2.706850\nB    0.651118\nC   -2.018168\nD    0.188695\nE    0.190794\nName: W, dtype: float64"
     },
     "execution_count": 154,
     "metadata": {},
     "output_type": "execute_result"
    }
   ],
   "source": [
    "df['W']"
   ]
  },
  {
   "cell_type": "code",
   "execution_count": 155,
   "metadata": {
    "ExecuteTime": {
     "end_time": "2024-02-29T06:33:12.528877Z",
     "start_time": "2024-02-29T06:33:12.521724Z"
    }
   },
   "outputs": [
    {
     "data": {
      "text/plain": "          W         Z\nA  2.706850  0.503826\nB  0.651118  0.605965\nC -2.018168 -0.589001\nD  0.188695  0.955057\nE  0.190794  0.683509",
      "text/html": "<div>\n<style scoped>\n    .dataframe tbody tr th:only-of-type {\n        vertical-align: middle;\n    }\n\n    .dataframe tbody tr th {\n        vertical-align: top;\n    }\n\n    .dataframe thead th {\n        text-align: right;\n    }\n</style>\n<table border=\"1\" class=\"dataframe\">\n  <thead>\n    <tr style=\"text-align: right;\">\n      <th></th>\n      <th>W</th>\n      <th>Z</th>\n    </tr>\n  </thead>\n  <tbody>\n    <tr>\n      <th>A</th>\n      <td>2.706850</td>\n      <td>0.503826</td>\n    </tr>\n    <tr>\n      <th>B</th>\n      <td>0.651118</td>\n      <td>0.605965</td>\n    </tr>\n    <tr>\n      <th>C</th>\n      <td>-2.018168</td>\n      <td>-0.589001</td>\n    </tr>\n    <tr>\n      <th>D</th>\n      <td>0.188695</td>\n      <td>0.955057</td>\n    </tr>\n    <tr>\n      <th>E</th>\n      <td>0.190794</td>\n      <td>0.683509</td>\n    </tr>\n  </tbody>\n</table>\n</div>"
     },
     "execution_count": 155,
     "metadata": {},
     "output_type": "execute_result"
    }
   ],
   "source": [
    "# Pass a list of column names\n",
    "df[['W','Z']]"
   ]
  },
  {
   "cell_type": "code",
   "outputs": [
    {
     "data": {
      "text/plain": "          W         Z\nA  2.706850  0.503826\nB  0.651118  0.605965\nC -2.018168 -0.589001\nD  0.188695  0.955057\nE  0.190794  0.683509",
      "text/html": "<div>\n<style scoped>\n    .dataframe tbody tr th:only-of-type {\n        vertical-align: middle;\n    }\n\n    .dataframe tbody tr th {\n        vertical-align: top;\n    }\n\n    .dataframe thead th {\n        text-align: right;\n    }\n</style>\n<table border=\"1\" class=\"dataframe\">\n  <thead>\n    <tr style=\"text-align: right;\">\n      <th></th>\n      <th>W</th>\n      <th>Z</th>\n    </tr>\n  </thead>\n  <tbody>\n    <tr>\n      <th>A</th>\n      <td>2.706850</td>\n      <td>0.503826</td>\n    </tr>\n    <tr>\n      <th>B</th>\n      <td>0.651118</td>\n      <td>0.605965</td>\n    </tr>\n    <tr>\n      <th>C</th>\n      <td>-2.018168</td>\n      <td>-0.589001</td>\n    </tr>\n    <tr>\n      <th>D</th>\n      <td>0.188695</td>\n      <td>0.955057</td>\n    </tr>\n    <tr>\n      <th>E</th>\n      <td>0.190794</td>\n      <td>0.683509</td>\n    </tr>\n  </tbody>\n</table>\n</div>"
     },
     "execution_count": 156,
     "metadata": {},
     "output_type": "execute_result"
    }
   ],
   "source": [
    "my_list = ['W','Z']\n",
    "df[my_list]"
   ],
   "metadata": {
    "collapsed": false,
    "ExecuteTime": {
     "end_time": "2024-02-29T06:33:13.099557Z",
     "start_time": "2024-02-29T06:33:13.093596Z"
    }
   },
   "execution_count": 156
  },
  {
   "cell_type": "code",
   "execution_count": 157,
   "metadata": {
    "ExecuteTime": {
     "end_time": "2024-02-29T06:33:13.664267Z",
     "start_time": "2024-02-29T06:33:13.658829Z"
    }
   },
   "outputs": [
    {
     "data": {
      "text/plain": "A    2.706850\nB    0.651118\nC   -2.018168\nD    0.188695\nE    0.190794\nName: W, dtype: float64"
     },
     "execution_count": 157,
     "metadata": {},
     "output_type": "execute_result"
    }
   ],
   "source": [
    "# SQL Syntax (NOT RECOMMENDED!)\n",
    "# the reason why it is confused with the method\n",
    "df.W"
   ]
  },
  {
   "cell_type": "markdown",
   "metadata": {},
   "source": [
    "DataFrame Columns are just Series"
   ]
  },
  {
   "cell_type": "code",
   "execution_count": 158,
   "metadata": {
    "ExecuteTime": {
     "end_time": "2024-02-29T06:33:14.791136Z",
     "start_time": "2024-02-29T06:33:14.787537Z"
    }
   },
   "outputs": [
    {
     "data": {
      "text/plain": "pandas.core.series.Series"
     },
     "execution_count": 158,
     "metadata": {},
     "output_type": "execute_result"
    }
   ],
   "source": [
    "type(df['W'])"
   ]
  },
  {
   "cell_type": "markdown",
   "metadata": {},
   "source": [
    "### Creating a new column:"
   ]
  },
  {
   "cell_type": "code",
   "execution_count": 159,
   "metadata": {
    "collapsed": true,
    "ExecuteTime": {
     "end_time": "2024-02-29T06:33:15.607438Z",
     "start_time": "2024-02-29T06:33:15.600328Z"
    }
   },
   "outputs": [
    {
     "data": {
      "text/plain": "          W         X         Y         Z       new\nA  2.706850  0.628133  0.907969  0.503826  3.614819\nB  0.651118 -0.319318 -0.848077  0.605965 -0.196959\nC -2.018168  0.740122  0.528813 -0.589001 -1.489355\nD  0.188695 -0.758872 -0.933237  0.955057 -0.744542\nE  0.190794  1.978757  2.605967  0.683509  2.796762",
      "text/html": "<div>\n<style scoped>\n    .dataframe tbody tr th:only-of-type {\n        vertical-align: middle;\n    }\n\n    .dataframe tbody tr th {\n        vertical-align: top;\n    }\n\n    .dataframe thead th {\n        text-align: right;\n    }\n</style>\n<table border=\"1\" class=\"dataframe\">\n  <thead>\n    <tr style=\"text-align: right;\">\n      <th></th>\n      <th>W</th>\n      <th>X</th>\n      <th>Y</th>\n      <th>Z</th>\n      <th>new</th>\n    </tr>\n  </thead>\n  <tbody>\n    <tr>\n      <th>A</th>\n      <td>2.706850</td>\n      <td>0.628133</td>\n      <td>0.907969</td>\n      <td>0.503826</td>\n      <td>3.614819</td>\n    </tr>\n    <tr>\n      <th>B</th>\n      <td>0.651118</td>\n      <td>-0.319318</td>\n      <td>-0.848077</td>\n      <td>0.605965</td>\n      <td>-0.196959</td>\n    </tr>\n    <tr>\n      <th>C</th>\n      <td>-2.018168</td>\n      <td>0.740122</td>\n      <td>0.528813</td>\n      <td>-0.589001</td>\n      <td>-1.489355</td>\n    </tr>\n    <tr>\n      <th>D</th>\n      <td>0.188695</td>\n      <td>-0.758872</td>\n      <td>-0.933237</td>\n      <td>0.955057</td>\n      <td>-0.744542</td>\n    </tr>\n    <tr>\n      <th>E</th>\n      <td>0.190794</td>\n      <td>1.978757</td>\n      <td>2.605967</td>\n      <td>0.683509</td>\n      <td>2.796762</td>\n    </tr>\n  </tbody>\n</table>\n</div>"
     },
     "execution_count": 159,
     "metadata": {},
     "output_type": "execute_result"
    }
   ],
   "source": [
    "df['new'] = df['W'] + df['Y']\n",
    "df"
   ]
  },
  {
   "cell_type": "markdown",
   "metadata": {},
   "source": [
    "### Removing Columns"
   ]
  },
  {
   "cell_type": "code",
   "execution_count": 160,
   "metadata": {
    "ExecuteTime": {
     "end_time": "2024-02-29T06:33:16.509198Z",
     "start_time": "2024-02-29T06:33:16.502919Z"
    }
   },
   "outputs": [
    {
     "data": {
      "text/plain": "          W         X         Y         Z\nA  2.706850  0.628133  0.907969  0.503826\nB  0.651118 -0.319318 -0.848077  0.605965\nC -2.018168  0.740122  0.528813 -0.589001\nD  0.188695 -0.758872 -0.933237  0.955057\nE  0.190794  1.978757  2.605967  0.683509",
      "text/html": "<div>\n<style scoped>\n    .dataframe tbody tr th:only-of-type {\n        vertical-align: middle;\n    }\n\n    .dataframe tbody tr th {\n        vertical-align: top;\n    }\n\n    .dataframe thead th {\n        text-align: right;\n    }\n</style>\n<table border=\"1\" class=\"dataframe\">\n  <thead>\n    <tr style=\"text-align: right;\">\n      <th></th>\n      <th>W</th>\n      <th>X</th>\n      <th>Y</th>\n      <th>Z</th>\n    </tr>\n  </thead>\n  <tbody>\n    <tr>\n      <th>A</th>\n      <td>2.706850</td>\n      <td>0.628133</td>\n      <td>0.907969</td>\n      <td>0.503826</td>\n    </tr>\n    <tr>\n      <th>B</th>\n      <td>0.651118</td>\n      <td>-0.319318</td>\n      <td>-0.848077</td>\n      <td>0.605965</td>\n    </tr>\n    <tr>\n      <th>C</th>\n      <td>-2.018168</td>\n      <td>0.740122</td>\n      <td>0.528813</td>\n      <td>-0.589001</td>\n    </tr>\n    <tr>\n      <th>D</th>\n      <td>0.188695</td>\n      <td>-0.758872</td>\n      <td>-0.933237</td>\n      <td>0.955057</td>\n    </tr>\n    <tr>\n      <th>E</th>\n      <td>0.190794</td>\n      <td>1.978757</td>\n      <td>2.605967</td>\n      <td>0.683509</td>\n    </tr>\n  </tbody>\n</table>\n</div>"
     },
     "execution_count": 160,
     "metadata": {},
     "output_type": "execute_result"
    }
   ],
   "source": [
    "# axis: Literal['index', 'columns', 'rows'] | int = 0\n",
    "df.drop('new',axis=1)"
   ]
  },
  {
   "cell_type": "code",
   "execution_count": 161,
   "metadata": {
    "ExecuteTime": {
     "end_time": "2024-02-29T06:33:16.941328Z",
     "start_time": "2024-02-29T06:33:16.934855Z"
    }
   },
   "outputs": [
    {
     "data": {
      "text/plain": "          W         X         Y         Z       new\nA  2.706850  0.628133  0.907969  0.503826  3.614819\nB  0.651118 -0.319318 -0.848077  0.605965 -0.196959\nC -2.018168  0.740122  0.528813 -0.589001 -1.489355\nD  0.188695 -0.758872 -0.933237  0.955057 -0.744542\nE  0.190794  1.978757  2.605967  0.683509  2.796762",
      "text/html": "<div>\n<style scoped>\n    .dataframe tbody tr th:only-of-type {\n        vertical-align: middle;\n    }\n\n    .dataframe tbody tr th {\n        vertical-align: top;\n    }\n\n    .dataframe thead th {\n        text-align: right;\n    }\n</style>\n<table border=\"1\" class=\"dataframe\">\n  <thead>\n    <tr style=\"text-align: right;\">\n      <th></th>\n      <th>W</th>\n      <th>X</th>\n      <th>Y</th>\n      <th>Z</th>\n      <th>new</th>\n    </tr>\n  </thead>\n  <tbody>\n    <tr>\n      <th>A</th>\n      <td>2.706850</td>\n      <td>0.628133</td>\n      <td>0.907969</td>\n      <td>0.503826</td>\n      <td>3.614819</td>\n    </tr>\n    <tr>\n      <th>B</th>\n      <td>0.651118</td>\n      <td>-0.319318</td>\n      <td>-0.848077</td>\n      <td>0.605965</td>\n      <td>-0.196959</td>\n    </tr>\n    <tr>\n      <th>C</th>\n      <td>-2.018168</td>\n      <td>0.740122</td>\n      <td>0.528813</td>\n      <td>-0.589001</td>\n      <td>-1.489355</td>\n    </tr>\n    <tr>\n      <th>D</th>\n      <td>0.188695</td>\n      <td>-0.758872</td>\n      <td>-0.933237</td>\n      <td>0.955057</td>\n      <td>-0.744542</td>\n    </tr>\n    <tr>\n      <th>E</th>\n      <td>0.190794</td>\n      <td>1.978757</td>\n      <td>2.605967</td>\n      <td>0.683509</td>\n      <td>2.796762</td>\n    </tr>\n  </tbody>\n</table>\n</div>"
     },
     "execution_count": 161,
     "metadata": {},
     "output_type": "execute_result"
    }
   ],
   "source": [
    "# Not inplace unless specified!\n",
    "df"
   ]
  },
  {
   "cell_type": "code",
   "execution_count": 162,
   "metadata": {
    "collapsed": true,
    "ExecuteTime": {
     "end_time": "2024-02-29T06:33:17.378051Z",
     "start_time": "2024-02-29T06:33:17.374733Z"
    }
   },
   "outputs": [],
   "source": [
    "df.drop('new',axis=1,inplace=True)"
   ]
  },
  {
   "cell_type": "code",
   "execution_count": 163,
   "metadata": {
    "ExecuteTime": {
     "end_time": "2024-02-29T06:33:17.856121Z",
     "start_time": "2024-02-29T06:33:17.850540Z"
    }
   },
   "outputs": [
    {
     "data": {
      "text/plain": "          W         X         Y         Z\nA  2.706850  0.628133  0.907969  0.503826\nB  0.651118 -0.319318 -0.848077  0.605965\nC -2.018168  0.740122  0.528813 -0.589001\nD  0.188695 -0.758872 -0.933237  0.955057\nE  0.190794  1.978757  2.605967  0.683509",
      "text/html": "<div>\n<style scoped>\n    .dataframe tbody tr th:only-of-type {\n        vertical-align: middle;\n    }\n\n    .dataframe tbody tr th {\n        vertical-align: top;\n    }\n\n    .dataframe thead th {\n        text-align: right;\n    }\n</style>\n<table border=\"1\" class=\"dataframe\">\n  <thead>\n    <tr style=\"text-align: right;\">\n      <th></th>\n      <th>W</th>\n      <th>X</th>\n      <th>Y</th>\n      <th>Z</th>\n    </tr>\n  </thead>\n  <tbody>\n    <tr>\n      <th>A</th>\n      <td>2.706850</td>\n      <td>0.628133</td>\n      <td>0.907969</td>\n      <td>0.503826</td>\n    </tr>\n    <tr>\n      <th>B</th>\n      <td>0.651118</td>\n      <td>-0.319318</td>\n      <td>-0.848077</td>\n      <td>0.605965</td>\n    </tr>\n    <tr>\n      <th>C</th>\n      <td>-2.018168</td>\n      <td>0.740122</td>\n      <td>0.528813</td>\n      <td>-0.589001</td>\n    </tr>\n    <tr>\n      <th>D</th>\n      <td>0.188695</td>\n      <td>-0.758872</td>\n      <td>-0.933237</td>\n      <td>0.955057</td>\n    </tr>\n    <tr>\n      <th>E</th>\n      <td>0.190794</td>\n      <td>1.978757</td>\n      <td>2.605967</td>\n      <td>0.683509</td>\n    </tr>\n  </tbody>\n</table>\n</div>"
     },
     "execution_count": 163,
     "metadata": {},
     "output_type": "execute_result"
    }
   ],
   "source": [
    "df"
   ]
  },
  {
   "cell_type": "markdown",
   "metadata": {},
   "source": [
    "Can also drop rows this way:"
   ]
  },
  {
   "cell_type": "code",
   "execution_count": 164,
   "metadata": {
    "ExecuteTime": {
     "end_time": "2024-02-29T06:33:18.772217Z",
     "start_time": "2024-02-29T06:33:18.766303Z"
    }
   },
   "outputs": [
    {
     "data": {
      "text/plain": "          W         X         Y         Z\nA  2.706850  0.628133  0.907969  0.503826\nB  0.651118 -0.319318 -0.848077  0.605965\nC -2.018168  0.740122  0.528813 -0.589001\nD  0.188695 -0.758872 -0.933237  0.955057",
      "text/html": "<div>\n<style scoped>\n    .dataframe tbody tr th:only-of-type {\n        vertical-align: middle;\n    }\n\n    .dataframe tbody tr th {\n        vertical-align: top;\n    }\n\n    .dataframe thead th {\n        text-align: right;\n    }\n</style>\n<table border=\"1\" class=\"dataframe\">\n  <thead>\n    <tr style=\"text-align: right;\">\n      <th></th>\n      <th>W</th>\n      <th>X</th>\n      <th>Y</th>\n      <th>Z</th>\n    </tr>\n  </thead>\n  <tbody>\n    <tr>\n      <th>A</th>\n      <td>2.706850</td>\n      <td>0.628133</td>\n      <td>0.907969</td>\n      <td>0.503826</td>\n    </tr>\n    <tr>\n      <th>B</th>\n      <td>0.651118</td>\n      <td>-0.319318</td>\n      <td>-0.848077</td>\n      <td>0.605965</td>\n    </tr>\n    <tr>\n      <th>C</th>\n      <td>-2.018168</td>\n      <td>0.740122</td>\n      <td>0.528813</td>\n      <td>-0.589001</td>\n    </tr>\n    <tr>\n      <th>D</th>\n      <td>0.188695</td>\n      <td>-0.758872</td>\n      <td>-0.933237</td>\n      <td>0.955057</td>\n    </tr>\n  </tbody>\n</table>\n</div>"
     },
     "execution_count": 164,
     "metadata": {},
     "output_type": "execute_result"
    }
   ],
   "source": [
    "df.drop('E',axis=0)"
   ]
  },
  {
   "cell_type": "code",
   "outputs": [
    {
     "data": {
      "text/plain": "          W         X         Y         Z\nA  2.706850  0.628133  0.907969  0.503826\nB  0.651118 -0.319318 -0.848077  0.605965\nC -2.018168  0.740122  0.528813 -0.589001\nD  0.188695 -0.758872 -0.933237  0.955057\nE  0.190794  1.978757  2.605967  0.683509",
      "text/html": "<div>\n<style scoped>\n    .dataframe tbody tr th:only-of-type {\n        vertical-align: middle;\n    }\n\n    .dataframe tbody tr th {\n        vertical-align: top;\n    }\n\n    .dataframe thead th {\n        text-align: right;\n    }\n</style>\n<table border=\"1\" class=\"dataframe\">\n  <thead>\n    <tr style=\"text-align: right;\">\n      <th></th>\n      <th>W</th>\n      <th>X</th>\n      <th>Y</th>\n      <th>Z</th>\n    </tr>\n  </thead>\n  <tbody>\n    <tr>\n      <th>A</th>\n      <td>2.706850</td>\n      <td>0.628133</td>\n      <td>0.907969</td>\n      <td>0.503826</td>\n    </tr>\n    <tr>\n      <th>B</th>\n      <td>0.651118</td>\n      <td>-0.319318</td>\n      <td>-0.848077</td>\n      <td>0.605965</td>\n    </tr>\n    <tr>\n      <th>C</th>\n      <td>-2.018168</td>\n      <td>0.740122</td>\n      <td>0.528813</td>\n      <td>-0.589001</td>\n    </tr>\n    <tr>\n      <th>D</th>\n      <td>0.188695</td>\n      <td>-0.758872</td>\n      <td>-0.933237</td>\n      <td>0.955057</td>\n    </tr>\n    <tr>\n      <th>E</th>\n      <td>0.190794</td>\n      <td>1.978757</td>\n      <td>2.605967</td>\n      <td>0.683509</td>\n    </tr>\n  </tbody>\n</table>\n</div>"
     },
     "execution_count": 165,
     "metadata": {},
     "output_type": "execute_result"
    }
   ],
   "source": [
    "df"
   ],
   "metadata": {
    "collapsed": false,
    "ExecuteTime": {
     "end_time": "2024-02-29T06:33:19.249727Z",
     "start_time": "2024-02-29T06:33:19.243933Z"
    }
   },
   "execution_count": 165
  },
  {
   "cell_type": "markdown",
   "metadata": {},
   "source": [
    "### Selecting Rows"
   ]
  },
  {
   "cell_type": "code",
   "execution_count": 166,
   "metadata": {
    "ExecuteTime": {
     "end_time": "2024-02-29T06:33:20.248466Z",
     "start_time": "2024-02-29T06:33:20.244230Z"
    }
   },
   "outputs": [
    {
     "data": {
      "text/plain": "W    2.706850\nX    0.628133\nY    0.907969\nZ    0.503826\nName: A, dtype: float64"
     },
     "execution_count": 166,
     "metadata": {},
     "output_type": "execute_result"
    }
   ],
   "source": [
    "# select row by label\n",
    "df.loc['A']"
   ]
  },
  {
   "cell_type": "markdown",
   "metadata": {},
   "source": [
    "Or select based off of position instead of label "
   ]
  },
  {
   "cell_type": "code",
   "execution_count": 167,
   "metadata": {
    "ExecuteTime": {
     "end_time": "2024-02-29T06:33:21.162120Z",
     "start_time": "2024-02-29T06:33:21.158221Z"
    }
   },
   "outputs": [
    {
     "data": {
      "text/plain": "W   -2.018168\nX    0.740122\nY    0.528813\nZ   -0.589001\nName: C, dtype: float64"
     },
     "execution_count": 167,
     "metadata": {},
     "output_type": "execute_result"
    }
   ],
   "source": [
    "# select row by index (label: C)\n",
    "df.iloc[2]"
   ]
  },
  {
   "cell_type": "code",
   "outputs": [
    {
     "name": "stdout",
     "output_type": "stream",
     "text": [
      "W   -2.018168\n",
      "X    0.740122\n",
      "Y    0.528813\n",
      "Z   -0.589001\n",
      "Name: C, dtype: float64\n"
     ]
    }
   ],
   "source": [
    "print(df.iloc[2])"
   ],
   "metadata": {
    "collapsed": false,
    "ExecuteTime": {
     "end_time": "2024-02-29T06:33:21.587890Z",
     "start_time": "2024-02-29T06:33:21.584181Z"
    }
   },
   "execution_count": 168
  },
  {
   "cell_type": "markdown",
   "metadata": {},
   "source": [
    "### Selecting subset of rows and columns"
   ]
  },
  {
   "cell_type": "code",
   "outputs": [
    {
     "data": {
      "text/plain": "          W         X         Y         Z\nA  2.706850  0.628133  0.907969  0.503826\nE  0.190794  1.978757  2.605967  0.683509",
      "text/html": "<div>\n<style scoped>\n    .dataframe tbody tr th:only-of-type {\n        vertical-align: middle;\n    }\n\n    .dataframe tbody tr th {\n        vertical-align: top;\n    }\n\n    .dataframe thead th {\n        text-align: right;\n    }\n</style>\n<table border=\"1\" class=\"dataframe\">\n  <thead>\n    <tr style=\"text-align: right;\">\n      <th></th>\n      <th>W</th>\n      <th>X</th>\n      <th>Y</th>\n      <th>Z</th>\n    </tr>\n  </thead>\n  <tbody>\n    <tr>\n      <th>A</th>\n      <td>2.706850</td>\n      <td>0.628133</td>\n      <td>0.907969</td>\n      <td>0.503826</td>\n    </tr>\n    <tr>\n      <th>E</th>\n      <td>0.190794</td>\n      <td>1.978757</td>\n      <td>2.605967</td>\n      <td>0.683509</td>\n    </tr>\n  </tbody>\n</table>\n</div>"
     },
     "execution_count": 169,
     "metadata": {},
     "output_type": "execute_result"
    }
   ],
   "source": [
    "df.loc[['A','E']]"
   ],
   "metadata": {
    "collapsed": false,
    "ExecuteTime": {
     "end_time": "2024-02-29T06:33:22.558489Z",
     "start_time": "2024-02-29T06:33:22.552081Z"
    }
   },
   "execution_count": 169
  },
  {
   "cell_type": "code",
   "outputs": [
    {
     "data": {
      "text/plain": "          W         X         Y         Z\nA  2.706850  0.628133  0.907969  0.503826\nD  0.188695 -0.758872 -0.933237  0.955057",
      "text/html": "<div>\n<style scoped>\n    .dataframe tbody tr th:only-of-type {\n        vertical-align: middle;\n    }\n\n    .dataframe tbody tr th {\n        vertical-align: top;\n    }\n\n    .dataframe thead th {\n        text-align: right;\n    }\n</style>\n<table border=\"1\" class=\"dataframe\">\n  <thead>\n    <tr style=\"text-align: right;\">\n      <th></th>\n      <th>W</th>\n      <th>X</th>\n      <th>Y</th>\n      <th>Z</th>\n    </tr>\n  </thead>\n  <tbody>\n    <tr>\n      <th>A</th>\n      <td>2.706850</td>\n      <td>0.628133</td>\n      <td>0.907969</td>\n      <td>0.503826</td>\n    </tr>\n    <tr>\n      <th>D</th>\n      <td>0.188695</td>\n      <td>-0.758872</td>\n      <td>-0.933237</td>\n      <td>0.955057</td>\n    </tr>\n  </tbody>\n</table>\n</div>"
     },
     "execution_count": 170,
     "metadata": {},
     "output_type": "execute_result"
    }
   ],
   "source": [
    "df.iloc[[0,3]]"
   ],
   "metadata": {
    "collapsed": false,
    "ExecuteTime": {
     "end_time": "2024-02-29T06:33:23.060187Z",
     "start_time": "2024-02-29T06:33:23.054764Z"
    }
   },
   "execution_count": 170
  },
  {
   "cell_type": "code",
   "execution_count": 171,
   "metadata": {
    "ExecuteTime": {
     "end_time": "2024-02-29T06:33:23.577710Z",
     "start_time": "2024-02-29T06:33:23.574859Z"
    }
   },
   "outputs": [
    {
     "data": {
      "text/plain": "-0.8480769834036315"
     },
     "execution_count": 171,
     "metadata": {},
     "output_type": "execute_result"
    }
   ],
   "source": [
    "df.loc['B','Y']"
   ]
  },
  {
   "cell_type": "code",
   "execution_count": 172,
   "metadata": {
    "ExecuteTime": {
     "end_time": "2024-02-29T06:33:24.032242Z",
     "start_time": "2024-02-29T06:33:24.026816Z"
    }
   },
   "outputs": [
    {
     "data": {
      "text/plain": "          W         Y\nA  2.706850  0.907969\nB  0.651118 -0.848077",
      "text/html": "<div>\n<style scoped>\n    .dataframe tbody tr th:only-of-type {\n        vertical-align: middle;\n    }\n\n    .dataframe tbody tr th {\n        vertical-align: top;\n    }\n\n    .dataframe thead th {\n        text-align: right;\n    }\n</style>\n<table border=\"1\" class=\"dataframe\">\n  <thead>\n    <tr style=\"text-align: right;\">\n      <th></th>\n      <th>W</th>\n      <th>Y</th>\n    </tr>\n  </thead>\n  <tbody>\n    <tr>\n      <th>A</th>\n      <td>2.706850</td>\n      <td>0.907969</td>\n    </tr>\n    <tr>\n      <th>B</th>\n      <td>0.651118</td>\n      <td>-0.848077</td>\n    </tr>\n  </tbody>\n</table>\n</div>"
     },
     "execution_count": 172,
     "metadata": {},
     "output_type": "execute_result"
    }
   ],
   "source": [
    "df.loc[['A','B'],['W','Y']]"
   ]
  },
  {
   "cell_type": "markdown",
   "metadata": {},
   "source": [
    "### Conditional Selection\n",
    "\n",
    "An important feature of pandas is conditional selection using bracket notation, very similar to numpy:"
   ]
  },
  {
   "cell_type": "code",
   "execution_count": 173,
   "metadata": {
    "ExecuteTime": {
     "end_time": "2024-02-29T06:33:25.085153Z",
     "start_time": "2024-02-29T06:33:25.078872Z"
    }
   },
   "outputs": [
    {
     "data": {
      "text/plain": "          W         X         Y         Z\nA  2.706850  0.628133  0.907969  0.503826\nB  0.651118 -0.319318 -0.848077  0.605965\nC -2.018168  0.740122  0.528813 -0.589001\nD  0.188695 -0.758872 -0.933237  0.955057\nE  0.190794  1.978757  2.605967  0.683509",
      "text/html": "<div>\n<style scoped>\n    .dataframe tbody tr th:only-of-type {\n        vertical-align: middle;\n    }\n\n    .dataframe tbody tr th {\n        vertical-align: top;\n    }\n\n    .dataframe thead th {\n        text-align: right;\n    }\n</style>\n<table border=\"1\" class=\"dataframe\">\n  <thead>\n    <tr style=\"text-align: right;\">\n      <th></th>\n      <th>W</th>\n      <th>X</th>\n      <th>Y</th>\n      <th>Z</th>\n    </tr>\n  </thead>\n  <tbody>\n    <tr>\n      <th>A</th>\n      <td>2.706850</td>\n      <td>0.628133</td>\n      <td>0.907969</td>\n      <td>0.503826</td>\n    </tr>\n    <tr>\n      <th>B</th>\n      <td>0.651118</td>\n      <td>-0.319318</td>\n      <td>-0.848077</td>\n      <td>0.605965</td>\n    </tr>\n    <tr>\n      <th>C</th>\n      <td>-2.018168</td>\n      <td>0.740122</td>\n      <td>0.528813</td>\n      <td>-0.589001</td>\n    </tr>\n    <tr>\n      <th>D</th>\n      <td>0.188695</td>\n      <td>-0.758872</td>\n      <td>-0.933237</td>\n      <td>0.955057</td>\n    </tr>\n    <tr>\n      <th>E</th>\n      <td>0.190794</td>\n      <td>1.978757</td>\n      <td>2.605967</td>\n      <td>0.683509</td>\n    </tr>\n  </tbody>\n</table>\n</div>"
     },
     "execution_count": 173,
     "metadata": {},
     "output_type": "execute_result"
    }
   ],
   "source": [
    "df"
   ]
  },
  {
   "cell_type": "code",
   "execution_count": 174,
   "metadata": {
    "ExecuteTime": {
     "end_time": "2024-02-29T06:33:25.603757Z",
     "start_time": "2024-02-29T06:33:25.597757Z"
    }
   },
   "outputs": [
    {
     "data": {
      "text/plain": "       W      X      Y      Z\nA   True   True   True   True\nB   True  False  False   True\nC  False   True   True  False\nD   True  False  False   True\nE   True   True   True   True",
      "text/html": "<div>\n<style scoped>\n    .dataframe tbody tr th:only-of-type {\n        vertical-align: middle;\n    }\n\n    .dataframe tbody tr th {\n        vertical-align: top;\n    }\n\n    .dataframe thead th {\n        text-align: right;\n    }\n</style>\n<table border=\"1\" class=\"dataframe\">\n  <thead>\n    <tr style=\"text-align: right;\">\n      <th></th>\n      <th>W</th>\n      <th>X</th>\n      <th>Y</th>\n      <th>Z</th>\n    </tr>\n  </thead>\n  <tbody>\n    <tr>\n      <th>A</th>\n      <td>True</td>\n      <td>True</td>\n      <td>True</td>\n      <td>True</td>\n    </tr>\n    <tr>\n      <th>B</th>\n      <td>True</td>\n      <td>False</td>\n      <td>False</td>\n      <td>True</td>\n    </tr>\n    <tr>\n      <th>C</th>\n      <td>False</td>\n      <td>True</td>\n      <td>True</td>\n      <td>False</td>\n    </tr>\n    <tr>\n      <th>D</th>\n      <td>True</td>\n      <td>False</td>\n      <td>False</td>\n      <td>True</td>\n    </tr>\n    <tr>\n      <th>E</th>\n      <td>True</td>\n      <td>True</td>\n      <td>True</td>\n      <td>True</td>\n    </tr>\n  </tbody>\n</table>\n</div>"
     },
     "execution_count": 174,
     "metadata": {},
     "output_type": "execute_result"
    }
   ],
   "source": [
    "df>0"
   ]
  },
  {
   "cell_type": "code",
   "execution_count": 175,
   "metadata": {
    "ExecuteTime": {
     "end_time": "2024-02-29T06:33:26.059880Z",
     "start_time": "2024-02-29T06:33:26.052507Z"
    }
   },
   "outputs": [
    {
     "data": {
      "text/plain": "          W         X         Y         Z\nA  2.706850  0.628133  0.907969  0.503826\nB  0.651118       NaN       NaN  0.605965\nC       NaN  0.740122  0.528813       NaN\nD  0.188695       NaN       NaN  0.955057\nE  0.190794  1.978757  2.605967  0.683509",
      "text/html": "<div>\n<style scoped>\n    .dataframe tbody tr th:only-of-type {\n        vertical-align: middle;\n    }\n\n    .dataframe tbody tr th {\n        vertical-align: top;\n    }\n\n    .dataframe thead th {\n        text-align: right;\n    }\n</style>\n<table border=\"1\" class=\"dataframe\">\n  <thead>\n    <tr style=\"text-align: right;\">\n      <th></th>\n      <th>W</th>\n      <th>X</th>\n      <th>Y</th>\n      <th>Z</th>\n    </tr>\n  </thead>\n  <tbody>\n    <tr>\n      <th>A</th>\n      <td>2.706850</td>\n      <td>0.628133</td>\n      <td>0.907969</td>\n      <td>0.503826</td>\n    </tr>\n    <tr>\n      <th>B</th>\n      <td>0.651118</td>\n      <td>NaN</td>\n      <td>NaN</td>\n      <td>0.605965</td>\n    </tr>\n    <tr>\n      <th>C</th>\n      <td>NaN</td>\n      <td>0.740122</td>\n      <td>0.528813</td>\n      <td>NaN</td>\n    </tr>\n    <tr>\n      <th>D</th>\n      <td>0.188695</td>\n      <td>NaN</td>\n      <td>NaN</td>\n      <td>0.955057</td>\n    </tr>\n    <tr>\n      <th>E</th>\n      <td>0.190794</td>\n      <td>1.978757</td>\n      <td>2.605967</td>\n      <td>0.683509</td>\n    </tr>\n  </tbody>\n</table>\n</div>"
     },
     "execution_count": 175,
     "metadata": {},
     "output_type": "execute_result"
    }
   ],
   "source": [
    "df[df>0]"
   ]
  },
  {
   "cell_type": "code",
   "execution_count": 176,
   "metadata": {
    "ExecuteTime": {
     "end_time": "2024-02-29T06:33:26.620395Z",
     "start_time": "2024-02-29T06:33:26.613973Z"
    }
   },
   "outputs": [
    {
     "data": {
      "text/plain": "          W         X         Y         Z\nA  2.706850  0.628133  0.907969  0.503826\nB  0.651118 -0.319318 -0.848077  0.605965\nD  0.188695 -0.758872 -0.933237  0.955057\nE  0.190794  1.978757  2.605967  0.683509",
      "text/html": "<div>\n<style scoped>\n    .dataframe tbody tr th:only-of-type {\n        vertical-align: middle;\n    }\n\n    .dataframe tbody tr th {\n        vertical-align: top;\n    }\n\n    .dataframe thead th {\n        text-align: right;\n    }\n</style>\n<table border=\"1\" class=\"dataframe\">\n  <thead>\n    <tr style=\"text-align: right;\">\n      <th></th>\n      <th>W</th>\n      <th>X</th>\n      <th>Y</th>\n      <th>Z</th>\n    </tr>\n  </thead>\n  <tbody>\n    <tr>\n      <th>A</th>\n      <td>2.706850</td>\n      <td>0.628133</td>\n      <td>0.907969</td>\n      <td>0.503826</td>\n    </tr>\n    <tr>\n      <th>B</th>\n      <td>0.651118</td>\n      <td>-0.319318</td>\n      <td>-0.848077</td>\n      <td>0.605965</td>\n    </tr>\n    <tr>\n      <th>D</th>\n      <td>0.188695</td>\n      <td>-0.758872</td>\n      <td>-0.933237</td>\n      <td>0.955057</td>\n    </tr>\n    <tr>\n      <th>E</th>\n      <td>0.190794</td>\n      <td>1.978757</td>\n      <td>2.605967</td>\n      <td>0.683509</td>\n    </tr>\n  </tbody>\n</table>\n</div>"
     },
     "execution_count": 176,
     "metadata": {},
     "output_type": "execute_result"
    }
   ],
   "source": [
    "df[df['W']>0]"
   ]
  },
  {
   "cell_type": "code",
   "execution_count": 177,
   "metadata": {
    "ExecuteTime": {
     "end_time": "2024-02-29T06:33:27.210063Z",
     "start_time": "2024-02-29T06:33:27.205853Z"
    }
   },
   "outputs": [
    {
     "data": {
      "text/plain": "A    0.907969\nB   -0.848077\nD   -0.933237\nE    2.605967\nName: Y, dtype: float64"
     },
     "execution_count": 177,
     "metadata": {},
     "output_type": "execute_result"
    }
   ],
   "source": [
    "df[df['W']>0]['Y']"
   ]
  },
  {
   "cell_type": "code",
   "execution_count": 178,
   "metadata": {
    "ExecuteTime": {
     "end_time": "2024-02-29T06:33:27.667017Z",
     "start_time": "2024-02-29T06:33:27.660723Z"
    }
   },
   "outputs": [
    {
     "data": {
      "text/plain": "          Y         X\nA  0.907969  0.628133\nB -0.848077 -0.319318\nD -0.933237 -0.758872\nE  2.605967  1.978757",
      "text/html": "<div>\n<style scoped>\n    .dataframe tbody tr th:only-of-type {\n        vertical-align: middle;\n    }\n\n    .dataframe tbody tr th {\n        vertical-align: top;\n    }\n\n    .dataframe thead th {\n        text-align: right;\n    }\n</style>\n<table border=\"1\" class=\"dataframe\">\n  <thead>\n    <tr style=\"text-align: right;\">\n      <th></th>\n      <th>Y</th>\n      <th>X</th>\n    </tr>\n  </thead>\n  <tbody>\n    <tr>\n      <th>A</th>\n      <td>0.907969</td>\n      <td>0.628133</td>\n    </tr>\n    <tr>\n      <th>B</th>\n      <td>-0.848077</td>\n      <td>-0.319318</td>\n    </tr>\n    <tr>\n      <th>D</th>\n      <td>-0.933237</td>\n      <td>-0.758872</td>\n    </tr>\n    <tr>\n      <th>E</th>\n      <td>2.605967</td>\n      <td>1.978757</td>\n    </tr>\n  </tbody>\n</table>\n</div>"
     },
     "execution_count": 178,
     "metadata": {},
     "output_type": "execute_result"
    }
   ],
   "source": [
    "df[df['W']>0][['Y','X']]"
   ]
  },
  {
   "cell_type": "markdown",
   "metadata": {},
   "source": [
    "For two conditions you can use | and & with parenthesis:"
   ]
  },
  {
   "cell_type": "code",
   "outputs": [
    {
     "data": {
      "text/plain": "          W         X         Y         Z\nE  0.190794  1.978757  2.605967  0.683509",
      "text/html": "<div>\n<style scoped>\n    .dataframe tbody tr th:only-of-type {\n        vertical-align: middle;\n    }\n\n    .dataframe tbody tr th {\n        vertical-align: top;\n    }\n\n    .dataframe thead th {\n        text-align: right;\n    }\n</style>\n<table border=\"1\" class=\"dataframe\">\n  <thead>\n    <tr style=\"text-align: right;\">\n      <th></th>\n      <th>W</th>\n      <th>X</th>\n      <th>Y</th>\n      <th>Z</th>\n    </tr>\n  </thead>\n  <tbody>\n    <tr>\n      <th>E</th>\n      <td>0.190794</td>\n      <td>1.978757</td>\n      <td>2.605967</td>\n      <td>0.683509</td>\n    </tr>\n  </tbody>\n</table>\n</div>"
     },
     "execution_count": 179,
     "metadata": {},
     "output_type": "execute_result"
    }
   ],
   "source": [
    "cond1 = df['W']>0\n",
    "cond2 = df['Y']>1\n",
    "\n",
    "# pandas logical operator, is different from python's.\n",
    "df[cond1 & cond2]"
   ],
   "metadata": {
    "collapsed": false,
    "ExecuteTime": {
     "end_time": "2024-02-29T06:33:28.461303Z",
     "start_time": "2024-02-29T06:33:28.454808Z"
    }
   },
   "execution_count": 179
  },
  {
   "cell_type": "code",
   "outputs": [
    {
     "ename": "ValueError",
     "evalue": "The truth value of a Series is ambiguous. Use a.empty, a.bool(), a.item(), a.any() or a.all().",
     "output_type": "error",
     "traceback": [
      "\u001B[1;31m---------------------------------------------------------------------------\u001B[0m",
      "\u001B[1;31mValueError\u001B[0m                                Traceback (most recent call last)",
      "Cell \u001B[1;32mIn[180], line 2\u001B[0m\n\u001B[0;32m      1\u001B[0m \u001B[38;5;66;03m# python logical operator, does not work with series or dataframe.\u001B[39;00m\n\u001B[1;32m----> 2\u001B[0m df[\u001B[43mcond1\u001B[49m\u001B[43m \u001B[49m\u001B[38;5;129;43;01mand\u001B[39;49;00m\u001B[43m \u001B[49m\u001B[43mcond2\u001B[49m]\n",
      "File \u001B[1;32m~\\AppData\\Local\\Programs\\Python\\Python312\\Lib\\site-packages\\pandas\\core\\generic.py:1576\u001B[0m, in \u001B[0;36mNDFrame.__nonzero__\u001B[1;34m(self)\u001B[0m\n\u001B[0;32m   1574\u001B[0m \u001B[38;5;129m@final\u001B[39m\n\u001B[0;32m   1575\u001B[0m \u001B[38;5;28;01mdef\u001B[39;00m \u001B[38;5;21m__nonzero__\u001B[39m(\u001B[38;5;28mself\u001B[39m) \u001B[38;5;241m-\u001B[39m\u001B[38;5;241m>\u001B[39m NoReturn:\n\u001B[1;32m-> 1576\u001B[0m     \u001B[38;5;28;01mraise\u001B[39;00m \u001B[38;5;167;01mValueError\u001B[39;00m(\n\u001B[0;32m   1577\u001B[0m         \u001B[38;5;124mf\u001B[39m\u001B[38;5;124m\"\u001B[39m\u001B[38;5;124mThe truth value of a \u001B[39m\u001B[38;5;132;01m{\u001B[39;00m\u001B[38;5;28mtype\u001B[39m(\u001B[38;5;28mself\u001B[39m)\u001B[38;5;241m.\u001B[39m\u001B[38;5;18m__name__\u001B[39m\u001B[38;5;132;01m}\u001B[39;00m\u001B[38;5;124m is ambiguous. \u001B[39m\u001B[38;5;124m\"\u001B[39m\n\u001B[0;32m   1578\u001B[0m         \u001B[38;5;124m\"\u001B[39m\u001B[38;5;124mUse a.empty, a.bool(), a.item(), a.any() or a.all().\u001B[39m\u001B[38;5;124m\"\u001B[39m\n\u001B[0;32m   1579\u001B[0m     )\n",
      "\u001B[1;31mValueError\u001B[0m: The truth value of a Series is ambiguous. Use a.empty, a.bool(), a.item(), a.any() or a.all()."
     ]
    }
   ],
   "source": [
    "# python logical operator, does not work with series or dataframe.\n",
    "df[cond1 and cond2]"
   ],
   "metadata": {
    "collapsed": false,
    "ExecuteTime": {
     "end_time": "2024-02-29T06:33:28.802410Z",
     "start_time": "2024-02-29T06:33:28.680261Z"
    }
   },
   "execution_count": 180
  },
  {
   "cell_type": "code",
   "outputs": [
    {
     "data": {
      "text/plain": "          W         X         Y         Z\nA  2.706850  0.628133  0.907969  0.503826\nB  0.651118 -0.319318 -0.848077  0.605965\nD  0.188695 -0.758872 -0.933237  0.955057\nE  0.190794  1.978757  2.605967  0.683509",
      "text/html": "<div>\n<style scoped>\n    .dataframe tbody tr th:only-of-type {\n        vertical-align: middle;\n    }\n\n    .dataframe tbody tr th {\n        vertical-align: top;\n    }\n\n    .dataframe thead th {\n        text-align: right;\n    }\n</style>\n<table border=\"1\" class=\"dataframe\">\n  <thead>\n    <tr style=\"text-align: right;\">\n      <th></th>\n      <th>W</th>\n      <th>X</th>\n      <th>Y</th>\n      <th>Z</th>\n    </tr>\n  </thead>\n  <tbody>\n    <tr>\n      <th>A</th>\n      <td>2.706850</td>\n      <td>0.628133</td>\n      <td>0.907969</td>\n      <td>0.503826</td>\n    </tr>\n    <tr>\n      <th>B</th>\n      <td>0.651118</td>\n      <td>-0.319318</td>\n      <td>-0.848077</td>\n      <td>0.605965</td>\n    </tr>\n    <tr>\n      <th>D</th>\n      <td>0.188695</td>\n      <td>-0.758872</td>\n      <td>-0.933237</td>\n      <td>0.955057</td>\n    </tr>\n    <tr>\n      <th>E</th>\n      <td>0.190794</td>\n      <td>1.978757</td>\n      <td>2.605967</td>\n      <td>0.683509</td>\n    </tr>\n  </tbody>\n</table>\n</div>"
     },
     "execution_count": 181,
     "metadata": {},
     "output_type": "execute_result"
    }
   ],
   "source": [
    "df[cond1 | cond2]"
   ],
   "metadata": {
    "collapsed": false,
    "ExecuteTime": {
     "end_time": "2024-02-29T06:33:29.003985Z",
     "start_time": "2024-02-29T06:33:28.997465Z"
    }
   },
   "execution_count": 181
  },
  {
   "cell_type": "code",
   "outputs": [
    {
     "ename": "ValueError",
     "evalue": "The truth value of a Series is ambiguous. Use a.empty, a.bool(), a.item(), a.any() or a.all().",
     "output_type": "error",
     "traceback": [
      "\u001B[1;31m---------------------------------------------------------------------------\u001B[0m",
      "\u001B[1;31mValueError\u001B[0m                                Traceback (most recent call last)",
      "Cell \u001B[1;32mIn[182], line 1\u001B[0m\n\u001B[1;32m----> 1\u001B[0m df[\u001B[43mcond1\u001B[49m\u001B[43m \u001B[49m\u001B[38;5;129;43;01mor\u001B[39;49;00m\u001B[43m \u001B[49m\u001B[43mcond2\u001B[49m]\n",
      "File \u001B[1;32m~\\AppData\\Local\\Programs\\Python\\Python312\\Lib\\site-packages\\pandas\\core\\generic.py:1576\u001B[0m, in \u001B[0;36mNDFrame.__nonzero__\u001B[1;34m(self)\u001B[0m\n\u001B[0;32m   1574\u001B[0m \u001B[38;5;129m@final\u001B[39m\n\u001B[0;32m   1575\u001B[0m \u001B[38;5;28;01mdef\u001B[39;00m \u001B[38;5;21m__nonzero__\u001B[39m(\u001B[38;5;28mself\u001B[39m) \u001B[38;5;241m-\u001B[39m\u001B[38;5;241m>\u001B[39m NoReturn:\n\u001B[1;32m-> 1576\u001B[0m     \u001B[38;5;28;01mraise\u001B[39;00m \u001B[38;5;167;01mValueError\u001B[39;00m(\n\u001B[0;32m   1577\u001B[0m         \u001B[38;5;124mf\u001B[39m\u001B[38;5;124m\"\u001B[39m\u001B[38;5;124mThe truth value of a \u001B[39m\u001B[38;5;132;01m{\u001B[39;00m\u001B[38;5;28mtype\u001B[39m(\u001B[38;5;28mself\u001B[39m)\u001B[38;5;241m.\u001B[39m\u001B[38;5;18m__name__\u001B[39m\u001B[38;5;132;01m}\u001B[39;00m\u001B[38;5;124m is ambiguous. \u001B[39m\u001B[38;5;124m\"\u001B[39m\n\u001B[0;32m   1578\u001B[0m         \u001B[38;5;124m\"\u001B[39m\u001B[38;5;124mUse a.empty, a.bool(), a.item(), a.any() or a.all().\u001B[39m\u001B[38;5;124m\"\u001B[39m\n\u001B[0;32m   1579\u001B[0m     )\n",
      "\u001B[1;31mValueError\u001B[0m: The truth value of a Series is ambiguous. Use a.empty, a.bool(), a.item(), a.any() or a.all()."
     ]
    }
   ],
   "source": [
    "df[cond1 or cond2]"
   ],
   "metadata": {
    "collapsed": false,
    "ExecuteTime": {
     "end_time": "2024-02-29T06:33:29.317032Z",
     "start_time": "2024-02-29T06:33:29.303392Z"
    }
   },
   "execution_count": 182
  },
  {
   "cell_type": "code",
   "execution_count": 183,
   "metadata": {
    "ExecuteTime": {
     "end_time": "2024-02-29T06:33:29.689143Z",
     "start_time": "2024-02-29T06:33:29.683393Z"
    }
   },
   "outputs": [
    {
     "data": {
      "text/plain": "          W         X         Y         Z\nE  0.190794  1.978757  2.605967  0.683509",
      "text/html": "<div>\n<style scoped>\n    .dataframe tbody tr th:only-of-type {\n        vertical-align: middle;\n    }\n\n    .dataframe tbody tr th {\n        vertical-align: top;\n    }\n\n    .dataframe thead th {\n        text-align: right;\n    }\n</style>\n<table border=\"1\" class=\"dataframe\">\n  <thead>\n    <tr style=\"text-align: right;\">\n      <th></th>\n      <th>W</th>\n      <th>X</th>\n      <th>Y</th>\n      <th>Z</th>\n    </tr>\n  </thead>\n  <tbody>\n    <tr>\n      <th>E</th>\n      <td>0.190794</td>\n      <td>1.978757</td>\n      <td>2.605967</td>\n      <td>0.683509</td>\n    </tr>\n  </tbody>\n</table>\n</div>"
     },
     "execution_count": 183,
     "metadata": {},
     "output_type": "execute_result"
    }
   ],
   "source": [
    "df[(df['W']>0) & (df['Y'] > 1)]"
   ]
  },
  {
   "cell_type": "code",
   "outputs": [
    {
     "data": {
      "text/plain": "          W         X         Y         Z\nA  2.706850  0.628133  0.907969  0.503826\nB  0.651118 -0.319318 -0.848077  0.605965\nC -2.018168  0.740122  0.528813 -0.589001\nD  0.188695 -0.758872 -0.933237  0.955057\nE  0.190794  1.978757  2.605967  0.683509",
      "text/html": "<div>\n<style scoped>\n    .dataframe tbody tr th:only-of-type {\n        vertical-align: middle;\n    }\n\n    .dataframe tbody tr th {\n        vertical-align: top;\n    }\n\n    .dataframe thead th {\n        text-align: right;\n    }\n</style>\n<table border=\"1\" class=\"dataframe\">\n  <thead>\n    <tr style=\"text-align: right;\">\n      <th></th>\n      <th>W</th>\n      <th>X</th>\n      <th>Y</th>\n      <th>Z</th>\n    </tr>\n  </thead>\n  <tbody>\n    <tr>\n      <th>A</th>\n      <td>2.706850</td>\n      <td>0.628133</td>\n      <td>0.907969</td>\n      <td>0.503826</td>\n    </tr>\n    <tr>\n      <th>B</th>\n      <td>0.651118</td>\n      <td>-0.319318</td>\n      <td>-0.848077</td>\n      <td>0.605965</td>\n    </tr>\n    <tr>\n      <th>C</th>\n      <td>-2.018168</td>\n      <td>0.740122</td>\n      <td>0.528813</td>\n      <td>-0.589001</td>\n    </tr>\n    <tr>\n      <th>D</th>\n      <td>0.188695</td>\n      <td>-0.758872</td>\n      <td>-0.933237</td>\n      <td>0.955057</td>\n    </tr>\n    <tr>\n      <th>E</th>\n      <td>0.190794</td>\n      <td>1.978757</td>\n      <td>2.605967</td>\n      <td>0.683509</td>\n    </tr>\n  </tbody>\n</table>\n</div>"
     },
     "execution_count": 184,
     "metadata": {},
     "output_type": "execute_result"
    }
   ],
   "source": [
    "# if number is zero, it will be NaN?\n",
    "test_df = df.copy()\n",
    "test_df"
   ],
   "metadata": {
    "collapsed": false,
    "ExecuteTime": {
     "end_time": "2024-02-29T06:33:29.906562Z",
     "start_time": "2024-02-29T06:33:29.901090Z"
    }
   },
   "execution_count": 184
  },
  {
   "cell_type": "code",
   "outputs": [
    {
     "data": {
      "text/plain": "          W         X         Y         Z\nA  2.706850  0.628133  0.907969  0.503826\nB  0.651118 -0.319318 -0.848077  0.605965\nC  0.000000  0.740122  0.528813 -0.589001\nD  0.188695 -0.758872 -0.933237  0.955057\nE  0.190794  1.978757  2.605967  0.683509",
      "text/html": "<div>\n<style scoped>\n    .dataframe tbody tr th:only-of-type {\n        vertical-align: middle;\n    }\n\n    .dataframe tbody tr th {\n        vertical-align: top;\n    }\n\n    .dataframe thead th {\n        text-align: right;\n    }\n</style>\n<table border=\"1\" class=\"dataframe\">\n  <thead>\n    <tr style=\"text-align: right;\">\n      <th></th>\n      <th>W</th>\n      <th>X</th>\n      <th>Y</th>\n      <th>Z</th>\n    </tr>\n  </thead>\n  <tbody>\n    <tr>\n      <th>A</th>\n      <td>2.706850</td>\n      <td>0.628133</td>\n      <td>0.907969</td>\n      <td>0.503826</td>\n    </tr>\n    <tr>\n      <th>B</th>\n      <td>0.651118</td>\n      <td>-0.319318</td>\n      <td>-0.848077</td>\n      <td>0.605965</td>\n    </tr>\n    <tr>\n      <th>C</th>\n      <td>0.000000</td>\n      <td>0.740122</td>\n      <td>0.528813</td>\n      <td>-0.589001</td>\n    </tr>\n    <tr>\n      <th>D</th>\n      <td>0.188695</td>\n      <td>-0.758872</td>\n      <td>-0.933237</td>\n      <td>0.955057</td>\n    </tr>\n    <tr>\n      <th>E</th>\n      <td>0.190794</td>\n      <td>1.978757</td>\n      <td>2.605967</td>\n      <td>0.683509</td>\n    </tr>\n  </tbody>\n</table>\n</div>"
     },
     "execution_count": 185,
     "metadata": {},
     "output_type": "execute_result"
    }
   ],
   "source": [
    "test_df.iloc[2,0] = 0\n",
    "test_df"
   ],
   "metadata": {
    "collapsed": false,
    "ExecuteTime": {
     "end_time": "2024-02-29T06:33:30.102231Z",
     "start_time": "2024-02-29T06:33:30.096087Z"
    }
   },
   "execution_count": 185
  },
  {
   "cell_type": "code",
   "outputs": [
    {
     "data": {
      "text/plain": "       W      X      Y      Z\nA   True   True   True   True\nB   True  False  False   True\nC  False   True   True  False\nD   True  False  False   True\nE   True   True   True   True",
      "text/html": "<div>\n<style scoped>\n    .dataframe tbody tr th:only-of-type {\n        vertical-align: middle;\n    }\n\n    .dataframe tbody tr th {\n        vertical-align: top;\n    }\n\n    .dataframe thead th {\n        text-align: right;\n    }\n</style>\n<table border=\"1\" class=\"dataframe\">\n  <thead>\n    <tr style=\"text-align: right;\">\n      <th></th>\n      <th>W</th>\n      <th>X</th>\n      <th>Y</th>\n      <th>Z</th>\n    </tr>\n  </thead>\n  <tbody>\n    <tr>\n      <th>A</th>\n      <td>True</td>\n      <td>True</td>\n      <td>True</td>\n      <td>True</td>\n    </tr>\n    <tr>\n      <th>B</th>\n      <td>True</td>\n      <td>False</td>\n      <td>False</td>\n      <td>True</td>\n    </tr>\n    <tr>\n      <th>C</th>\n      <td>False</td>\n      <td>True</td>\n      <td>True</td>\n      <td>False</td>\n    </tr>\n    <tr>\n      <th>D</th>\n      <td>True</td>\n      <td>False</td>\n      <td>False</td>\n      <td>True</td>\n    </tr>\n    <tr>\n      <th>E</th>\n      <td>True</td>\n      <td>True</td>\n      <td>True</td>\n      <td>True</td>\n    </tr>\n  </tbody>\n</table>\n</div>"
     },
     "execution_count": 186,
     "metadata": {},
     "output_type": "execute_result"
    }
   ],
   "source": [
    "df_bool = test_df > 0\n",
    "df_bool"
   ],
   "metadata": {
    "collapsed": false,
    "ExecuteTime": {
     "end_time": "2024-02-29T06:33:30.326248Z",
     "start_time": "2024-02-29T06:33:30.319964Z"
    }
   },
   "execution_count": 186
  },
  {
   "cell_type": "code",
   "outputs": [
    {
     "name": "stdout",
     "output_type": "stream",
     "text": [
      "       W      X      Y      Z\n",
      "A   True   True   True   True\n",
      "B   True  False  False   True\n",
      "C  False   True   True  False\n",
      "D   True  False  False   True\n",
      "E   True   True   True   True\n"
     ]
    }
   ],
   "source": [
    "print(df_bool)"
   ],
   "metadata": {
    "collapsed": false,
    "ExecuteTime": {
     "end_time": "2024-02-29T06:33:30.458787Z",
     "start_time": "2024-02-29T06:33:30.455245Z"
    }
   },
   "execution_count": 187
  },
  {
   "cell_type": "code",
   "outputs": [
    {
     "data": {
      "text/plain": "          W         X         Y         Z\nA  2.706850  0.628133  0.907969  0.503826\nB  0.651118       NaN       NaN  0.605965\nC       NaN  0.740122  0.528813       NaN\nD  0.188695       NaN       NaN  0.955057\nE  0.190794  1.978757  2.605967  0.683509",
      "text/html": "<div>\n<style scoped>\n    .dataframe tbody tr th:only-of-type {\n        vertical-align: middle;\n    }\n\n    .dataframe tbody tr th {\n        vertical-align: top;\n    }\n\n    .dataframe thead th {\n        text-align: right;\n    }\n</style>\n<table border=\"1\" class=\"dataframe\">\n  <thead>\n    <tr style=\"text-align: right;\">\n      <th></th>\n      <th>W</th>\n      <th>X</th>\n      <th>Y</th>\n      <th>Z</th>\n    </tr>\n  </thead>\n  <tbody>\n    <tr>\n      <th>A</th>\n      <td>2.706850</td>\n      <td>0.628133</td>\n      <td>0.907969</td>\n      <td>0.503826</td>\n    </tr>\n    <tr>\n      <th>B</th>\n      <td>0.651118</td>\n      <td>NaN</td>\n      <td>NaN</td>\n      <td>0.605965</td>\n    </tr>\n    <tr>\n      <th>C</th>\n      <td>NaN</td>\n      <td>0.740122</td>\n      <td>0.528813</td>\n      <td>NaN</td>\n    </tr>\n    <tr>\n      <th>D</th>\n      <td>0.188695</td>\n      <td>NaN</td>\n      <td>NaN</td>\n      <td>0.955057</td>\n    </tr>\n    <tr>\n      <th>E</th>\n      <td>0.190794</td>\n      <td>1.978757</td>\n      <td>2.605967</td>\n      <td>0.683509</td>\n    </tr>\n  </tbody>\n</table>\n</div>"
     },
     "execution_count": 188,
     "metadata": {},
     "output_type": "execute_result"
    }
   ],
   "source": [
    "# Zero is shown as NaN, regardless of the type of the number.\n",
    "test_df[test_df > 0]"
   ],
   "metadata": {
    "collapsed": false,
    "ExecuteTime": {
     "end_time": "2024-02-29T06:33:30.726337Z",
     "start_time": "2024-02-29T06:33:30.719542Z"
    }
   },
   "execution_count": 188
  },
  {
   "cell_type": "code",
   "outputs": [
    {
     "data": {
      "text/plain": "          W         X         Y         Z\nA  2.706850  0.628133  0.907969  0.503826\nB  0.651118       NaN       NaN  0.605965\nC       NaN  0.740122  0.528813       NaN\nD  0.188695       NaN       NaN  0.955057\nE  0.190794  1.978757  2.605967  0.683509",
      "text/html": "<div>\n<style scoped>\n    .dataframe tbody tr th:only-of-type {\n        vertical-align: middle;\n    }\n\n    .dataframe tbody tr th {\n        vertical-align: top;\n    }\n\n    .dataframe thead th {\n        text-align: right;\n    }\n</style>\n<table border=\"1\" class=\"dataframe\">\n  <thead>\n    <tr style=\"text-align: right;\">\n      <th></th>\n      <th>W</th>\n      <th>X</th>\n      <th>Y</th>\n      <th>Z</th>\n    </tr>\n  </thead>\n  <tbody>\n    <tr>\n      <th>A</th>\n      <td>2.706850</td>\n      <td>0.628133</td>\n      <td>0.907969</td>\n      <td>0.503826</td>\n    </tr>\n    <tr>\n      <th>B</th>\n      <td>0.651118</td>\n      <td>NaN</td>\n      <td>NaN</td>\n      <td>0.605965</td>\n    </tr>\n    <tr>\n      <th>C</th>\n      <td>NaN</td>\n      <td>0.740122</td>\n      <td>0.528813</td>\n      <td>NaN</td>\n    </tr>\n    <tr>\n      <th>D</th>\n      <td>0.188695</td>\n      <td>NaN</td>\n      <td>NaN</td>\n      <td>0.955057</td>\n    </tr>\n    <tr>\n      <th>E</th>\n      <td>0.190794</td>\n      <td>1.978757</td>\n      <td>2.605967</td>\n      <td>0.683509</td>\n    </tr>\n  </tbody>\n</table>\n</div>"
     },
     "execution_count": 189,
     "metadata": {},
     "output_type": "execute_result"
    }
   ],
   "source": [
    "test_df[df_bool]"
   ],
   "metadata": {
    "collapsed": false,
    "ExecuteTime": {
     "end_time": "2024-02-29T06:33:31.050468Z",
     "start_time": "2024-02-29T06:33:31.042598Z"
    }
   },
   "execution_count": 189
  },
  {
   "cell_type": "markdown",
   "metadata": {},
   "source": [
    "## More Index Details\n",
    "\n",
    "Let's discuss some more features of indexing, including resetting the index or setting it something else. We'll also talk about index hierarchy!"
   ]
  },
  {
   "cell_type": "code",
   "execution_count": 190,
   "metadata": {
    "ExecuteTime": {
     "end_time": "2024-02-29T06:33:31.758758Z",
     "start_time": "2024-02-29T06:33:31.751526Z"
    }
   },
   "outputs": [
    {
     "data": {
      "text/plain": "          W         X         Y         Z\nA  2.706850  0.628133  0.907969  0.503826\nB  0.651118 -0.319318 -0.848077  0.605965\nC -2.018168  0.740122  0.528813 -0.589001\nD  0.188695 -0.758872 -0.933237  0.955057\nE  0.190794  1.978757  2.605967  0.683509",
      "text/html": "<div>\n<style scoped>\n    .dataframe tbody tr th:only-of-type {\n        vertical-align: middle;\n    }\n\n    .dataframe tbody tr th {\n        vertical-align: top;\n    }\n\n    .dataframe thead th {\n        text-align: right;\n    }\n</style>\n<table border=\"1\" class=\"dataframe\">\n  <thead>\n    <tr style=\"text-align: right;\">\n      <th></th>\n      <th>W</th>\n      <th>X</th>\n      <th>Y</th>\n      <th>Z</th>\n    </tr>\n  </thead>\n  <tbody>\n    <tr>\n      <th>A</th>\n      <td>2.706850</td>\n      <td>0.628133</td>\n      <td>0.907969</td>\n      <td>0.503826</td>\n    </tr>\n    <tr>\n      <th>B</th>\n      <td>0.651118</td>\n      <td>-0.319318</td>\n      <td>-0.848077</td>\n      <td>0.605965</td>\n    </tr>\n    <tr>\n      <th>C</th>\n      <td>-2.018168</td>\n      <td>0.740122</td>\n      <td>0.528813</td>\n      <td>-0.589001</td>\n    </tr>\n    <tr>\n      <th>D</th>\n      <td>0.188695</td>\n      <td>-0.758872</td>\n      <td>-0.933237</td>\n      <td>0.955057</td>\n    </tr>\n    <tr>\n      <th>E</th>\n      <td>0.190794</td>\n      <td>1.978757</td>\n      <td>2.605967</td>\n      <td>0.683509</td>\n    </tr>\n  </tbody>\n</table>\n</div>"
     },
     "execution_count": 190,
     "metadata": {},
     "output_type": "execute_result"
    }
   ],
   "source": [
    "df"
   ]
  },
  {
   "cell_type": "code",
   "execution_count": 191,
   "metadata": {
    "ExecuteTime": {
     "end_time": "2024-02-29T06:33:32.148262Z",
     "start_time": "2024-02-29T06:33:32.142540Z"
    }
   },
   "outputs": [
    {
     "data": {
      "text/plain": "  index         W         X         Y         Z\n0     A  2.706850  0.628133  0.907969  0.503826\n1     B  0.651118 -0.319318 -0.848077  0.605965\n2     C -2.018168  0.740122  0.528813 -0.589001\n3     D  0.188695 -0.758872 -0.933237  0.955057\n4     E  0.190794  1.978757  2.605967  0.683509",
      "text/html": "<div>\n<style scoped>\n    .dataframe tbody tr th:only-of-type {\n        vertical-align: middle;\n    }\n\n    .dataframe tbody tr th {\n        vertical-align: top;\n    }\n\n    .dataframe thead th {\n        text-align: right;\n    }\n</style>\n<table border=\"1\" class=\"dataframe\">\n  <thead>\n    <tr style=\"text-align: right;\">\n      <th></th>\n      <th>index</th>\n      <th>W</th>\n      <th>X</th>\n      <th>Y</th>\n      <th>Z</th>\n    </tr>\n  </thead>\n  <tbody>\n    <tr>\n      <th>0</th>\n      <td>A</td>\n      <td>2.706850</td>\n      <td>0.628133</td>\n      <td>0.907969</td>\n      <td>0.503826</td>\n    </tr>\n    <tr>\n      <th>1</th>\n      <td>B</td>\n      <td>0.651118</td>\n      <td>-0.319318</td>\n      <td>-0.848077</td>\n      <td>0.605965</td>\n    </tr>\n    <tr>\n      <th>2</th>\n      <td>C</td>\n      <td>-2.018168</td>\n      <td>0.740122</td>\n      <td>0.528813</td>\n      <td>-0.589001</td>\n    </tr>\n    <tr>\n      <th>3</th>\n      <td>D</td>\n      <td>0.188695</td>\n      <td>-0.758872</td>\n      <td>-0.933237</td>\n      <td>0.955057</td>\n    </tr>\n    <tr>\n      <th>4</th>\n      <td>E</td>\n      <td>0.190794</td>\n      <td>1.978757</td>\n      <td>2.605967</td>\n      <td>0.683509</td>\n    </tr>\n  </tbody>\n</table>\n</div>"
     },
     "execution_count": 191,
     "metadata": {},
     "output_type": "execute_result"
    }
   ],
   "source": [
    "# Reset to default 0,1...n index\n",
    "df.reset_index()"
   ]
  },
  {
   "cell_type": "code",
   "execution_count": 192,
   "metadata": {
    "collapsed": true,
    "ExecuteTime": {
     "end_time": "2024-02-29T06:33:32.618154Z",
     "start_time": "2024-02-29T06:33:32.615405Z"
    }
   },
   "outputs": [],
   "source": [
    "newind = 'CA NY WY OR CO'.split()"
   ]
  },
  {
   "cell_type": "code",
   "execution_count": 193,
   "metadata": {
    "collapsed": true,
    "ExecuteTime": {
     "end_time": "2024-02-29T06:33:32.974671Z",
     "start_time": "2024-02-29T06:33:32.971031Z"
    }
   },
   "outputs": [],
   "source": [
    "df['States'] = newind"
   ]
  },
  {
   "cell_type": "code",
   "execution_count": 194,
   "metadata": {
    "ExecuteTime": {
     "end_time": "2024-02-29T06:33:33.226572Z",
     "start_time": "2024-02-29T06:33:33.220137Z"
    }
   },
   "outputs": [
    {
     "data": {
      "text/plain": "          W         X         Y         Z States\nA  2.706850  0.628133  0.907969  0.503826     CA\nB  0.651118 -0.319318 -0.848077  0.605965     NY\nC -2.018168  0.740122  0.528813 -0.589001     WY\nD  0.188695 -0.758872 -0.933237  0.955057     OR\nE  0.190794  1.978757  2.605967  0.683509     CO",
      "text/html": "<div>\n<style scoped>\n    .dataframe tbody tr th:only-of-type {\n        vertical-align: middle;\n    }\n\n    .dataframe tbody tr th {\n        vertical-align: top;\n    }\n\n    .dataframe thead th {\n        text-align: right;\n    }\n</style>\n<table border=\"1\" class=\"dataframe\">\n  <thead>\n    <tr style=\"text-align: right;\">\n      <th></th>\n      <th>W</th>\n      <th>X</th>\n      <th>Y</th>\n      <th>Z</th>\n      <th>States</th>\n    </tr>\n  </thead>\n  <tbody>\n    <tr>\n      <th>A</th>\n      <td>2.706850</td>\n      <td>0.628133</td>\n      <td>0.907969</td>\n      <td>0.503826</td>\n      <td>CA</td>\n    </tr>\n    <tr>\n      <th>B</th>\n      <td>0.651118</td>\n      <td>-0.319318</td>\n      <td>-0.848077</td>\n      <td>0.605965</td>\n      <td>NY</td>\n    </tr>\n    <tr>\n      <th>C</th>\n      <td>-2.018168</td>\n      <td>0.740122</td>\n      <td>0.528813</td>\n      <td>-0.589001</td>\n      <td>WY</td>\n    </tr>\n    <tr>\n      <th>D</th>\n      <td>0.188695</td>\n      <td>-0.758872</td>\n      <td>-0.933237</td>\n      <td>0.955057</td>\n      <td>OR</td>\n    </tr>\n    <tr>\n      <th>E</th>\n      <td>0.190794</td>\n      <td>1.978757</td>\n      <td>2.605967</td>\n      <td>0.683509</td>\n      <td>CO</td>\n    </tr>\n  </tbody>\n</table>\n</div>"
     },
     "execution_count": 194,
     "metadata": {},
     "output_type": "execute_result"
    }
   ],
   "source": [
    "df"
   ]
  },
  {
   "cell_type": "code",
   "execution_count": 195,
   "metadata": {
    "ExecuteTime": {
     "end_time": "2024-02-29T06:33:33.465544Z",
     "start_time": "2024-02-29T06:33:33.455141Z"
    }
   },
   "outputs": [
    {
     "data": {
      "text/plain": "               W         X         Y         Z\nStates                                        \nCA      2.706850  0.628133  0.907969  0.503826\nNY      0.651118 -0.319318 -0.848077  0.605965\nWY     -2.018168  0.740122  0.528813 -0.589001\nOR      0.188695 -0.758872 -0.933237  0.955057\nCO      0.190794  1.978757  2.605967  0.683509",
      "text/html": "<div>\n<style scoped>\n    .dataframe tbody tr th:only-of-type {\n        vertical-align: middle;\n    }\n\n    .dataframe tbody tr th {\n        vertical-align: top;\n    }\n\n    .dataframe thead th {\n        text-align: right;\n    }\n</style>\n<table border=\"1\" class=\"dataframe\">\n  <thead>\n    <tr style=\"text-align: right;\">\n      <th></th>\n      <th>W</th>\n      <th>X</th>\n      <th>Y</th>\n      <th>Z</th>\n    </tr>\n    <tr>\n      <th>States</th>\n      <th></th>\n      <th></th>\n      <th></th>\n      <th></th>\n    </tr>\n  </thead>\n  <tbody>\n    <tr>\n      <th>CA</th>\n      <td>2.706850</td>\n      <td>0.628133</td>\n      <td>0.907969</td>\n      <td>0.503826</td>\n    </tr>\n    <tr>\n      <th>NY</th>\n      <td>0.651118</td>\n      <td>-0.319318</td>\n      <td>-0.848077</td>\n      <td>0.605965</td>\n    </tr>\n    <tr>\n      <th>WY</th>\n      <td>-2.018168</td>\n      <td>0.740122</td>\n      <td>0.528813</td>\n      <td>-0.589001</td>\n    </tr>\n    <tr>\n      <th>OR</th>\n      <td>0.188695</td>\n      <td>-0.758872</td>\n      <td>-0.933237</td>\n      <td>0.955057</td>\n    </tr>\n    <tr>\n      <th>CO</th>\n      <td>0.190794</td>\n      <td>1.978757</td>\n      <td>2.605967</td>\n      <td>0.683509</td>\n    </tr>\n  </tbody>\n</table>\n</div>"
     },
     "execution_count": 195,
     "metadata": {},
     "output_type": "execute_result"
    }
   ],
   "source": [
    "df.set_index('States')"
   ]
  },
  {
   "cell_type": "code",
   "execution_count": 196,
   "metadata": {
    "ExecuteTime": {
     "end_time": "2024-02-29T06:33:33.836200Z",
     "start_time": "2024-02-29T06:33:33.830477Z"
    }
   },
   "outputs": [
    {
     "data": {
      "text/plain": "          W         X         Y         Z States\nA  2.706850  0.628133  0.907969  0.503826     CA\nB  0.651118 -0.319318 -0.848077  0.605965     NY\nC -2.018168  0.740122  0.528813 -0.589001     WY\nD  0.188695 -0.758872 -0.933237  0.955057     OR\nE  0.190794  1.978757  2.605967  0.683509     CO",
      "text/html": "<div>\n<style scoped>\n    .dataframe tbody tr th:only-of-type {\n        vertical-align: middle;\n    }\n\n    .dataframe tbody tr th {\n        vertical-align: top;\n    }\n\n    .dataframe thead th {\n        text-align: right;\n    }\n</style>\n<table border=\"1\" class=\"dataframe\">\n  <thead>\n    <tr style=\"text-align: right;\">\n      <th></th>\n      <th>W</th>\n      <th>X</th>\n      <th>Y</th>\n      <th>Z</th>\n      <th>States</th>\n    </tr>\n  </thead>\n  <tbody>\n    <tr>\n      <th>A</th>\n      <td>2.706850</td>\n      <td>0.628133</td>\n      <td>0.907969</td>\n      <td>0.503826</td>\n      <td>CA</td>\n    </tr>\n    <tr>\n      <th>B</th>\n      <td>0.651118</td>\n      <td>-0.319318</td>\n      <td>-0.848077</td>\n      <td>0.605965</td>\n      <td>NY</td>\n    </tr>\n    <tr>\n      <th>C</th>\n      <td>-2.018168</td>\n      <td>0.740122</td>\n      <td>0.528813</td>\n      <td>-0.589001</td>\n      <td>WY</td>\n    </tr>\n    <tr>\n      <th>D</th>\n      <td>0.188695</td>\n      <td>-0.758872</td>\n      <td>-0.933237</td>\n      <td>0.955057</td>\n      <td>OR</td>\n    </tr>\n    <tr>\n      <th>E</th>\n      <td>0.190794</td>\n      <td>1.978757</td>\n      <td>2.605967</td>\n      <td>0.683509</td>\n      <td>CO</td>\n    </tr>\n  </tbody>\n</table>\n</div>"
     },
     "execution_count": 196,
     "metadata": {},
     "output_type": "execute_result"
    }
   ],
   "source": [
    "df"
   ]
  },
  {
   "cell_type": "code",
   "execution_count": 197,
   "metadata": {
    "collapsed": true,
    "ExecuteTime": {
     "end_time": "2024-02-29T06:33:34.243065Z",
     "start_time": "2024-02-29T06:33:34.239755Z"
    }
   },
   "outputs": [],
   "source": [
    "df.set_index('States',inplace=True)"
   ]
  },
  {
   "cell_type": "code",
   "execution_count": 198,
   "metadata": {
    "ExecuteTime": {
     "end_time": "2024-02-29T06:33:35.426669Z",
     "start_time": "2024-02-29T06:33:35.420609Z"
    }
   },
   "outputs": [
    {
     "data": {
      "text/plain": "               W         X         Y         Z\nStates                                        \nCA      2.706850  0.628133  0.907969  0.503826\nNY      0.651118 -0.319318 -0.848077  0.605965\nWY     -2.018168  0.740122  0.528813 -0.589001\nOR      0.188695 -0.758872 -0.933237  0.955057\nCO      0.190794  1.978757  2.605967  0.683509",
      "text/html": "<div>\n<style scoped>\n    .dataframe tbody tr th:only-of-type {\n        vertical-align: middle;\n    }\n\n    .dataframe tbody tr th {\n        vertical-align: top;\n    }\n\n    .dataframe thead th {\n        text-align: right;\n    }\n</style>\n<table border=\"1\" class=\"dataframe\">\n  <thead>\n    <tr style=\"text-align: right;\">\n      <th></th>\n      <th>W</th>\n      <th>X</th>\n      <th>Y</th>\n      <th>Z</th>\n    </tr>\n    <tr>\n      <th>States</th>\n      <th></th>\n      <th></th>\n      <th></th>\n      <th></th>\n    </tr>\n  </thead>\n  <tbody>\n    <tr>\n      <th>CA</th>\n      <td>2.706850</td>\n      <td>0.628133</td>\n      <td>0.907969</td>\n      <td>0.503826</td>\n    </tr>\n    <tr>\n      <th>NY</th>\n      <td>0.651118</td>\n      <td>-0.319318</td>\n      <td>-0.848077</td>\n      <td>0.605965</td>\n    </tr>\n    <tr>\n      <th>WY</th>\n      <td>-2.018168</td>\n      <td>0.740122</td>\n      <td>0.528813</td>\n      <td>-0.589001</td>\n    </tr>\n    <tr>\n      <th>OR</th>\n      <td>0.188695</td>\n      <td>-0.758872</td>\n      <td>-0.933237</td>\n      <td>0.955057</td>\n    </tr>\n    <tr>\n      <th>CO</th>\n      <td>0.190794</td>\n      <td>1.978757</td>\n      <td>2.605967</td>\n      <td>0.683509</td>\n    </tr>\n  </tbody>\n</table>\n</div>"
     },
     "execution_count": 198,
     "metadata": {},
     "output_type": "execute_result"
    }
   ],
   "source": [
    "df"
   ]
  },
  {
   "cell_type": "markdown",
   "metadata": {},
   "source": [
    "## DataFrame Summaries\n",
    "There are a couple of ways to obtain summary data on DataFrames.<br>\n",
    "<tt><strong>df.describe()</strong></tt> provides summary statistics on all numerical columns.<br>\n",
    "<tt><strong>df.info and df.dtypes</strong></tt> displays the data type of all columns."
   ]
  },
  {
   "cell_type": "code",
   "execution_count": 199,
   "metadata": {
    "ExecuteTime": {
     "end_time": "2024-02-29T06:33:36.840273Z",
     "start_time": "2024-02-29T06:33:36.830474Z"
    }
   },
   "outputs": [
    {
     "data": {
      "text/plain": "              W         X         Y         Z\ncount  5.000000  5.000000  5.000000  5.000000\nmean   0.343858  0.453764  0.452287  0.431871\nstd    1.681131  1.061385  1.454516  0.594708\nmin   -2.018168 -0.758872 -0.933237 -0.589001\n25%    0.188695 -0.319318 -0.848077  0.503826\n50%    0.190794  0.628133  0.528813  0.605965\n75%    0.651118  0.740122  0.907969  0.683509\nmax    2.706850  1.978757  2.605967  0.955057",
      "text/html": "<div>\n<style scoped>\n    .dataframe tbody tr th:only-of-type {\n        vertical-align: middle;\n    }\n\n    .dataframe tbody tr th {\n        vertical-align: top;\n    }\n\n    .dataframe thead th {\n        text-align: right;\n    }\n</style>\n<table border=\"1\" class=\"dataframe\">\n  <thead>\n    <tr style=\"text-align: right;\">\n      <th></th>\n      <th>W</th>\n      <th>X</th>\n      <th>Y</th>\n      <th>Z</th>\n    </tr>\n  </thead>\n  <tbody>\n    <tr>\n      <th>count</th>\n      <td>5.000000</td>\n      <td>5.000000</td>\n      <td>5.000000</td>\n      <td>5.000000</td>\n    </tr>\n    <tr>\n      <th>mean</th>\n      <td>0.343858</td>\n      <td>0.453764</td>\n      <td>0.452287</td>\n      <td>0.431871</td>\n    </tr>\n    <tr>\n      <th>std</th>\n      <td>1.681131</td>\n      <td>1.061385</td>\n      <td>1.454516</td>\n      <td>0.594708</td>\n    </tr>\n    <tr>\n      <th>min</th>\n      <td>-2.018168</td>\n      <td>-0.758872</td>\n      <td>-0.933237</td>\n      <td>-0.589001</td>\n    </tr>\n    <tr>\n      <th>25%</th>\n      <td>0.188695</td>\n      <td>-0.319318</td>\n      <td>-0.848077</td>\n      <td>0.503826</td>\n    </tr>\n    <tr>\n      <th>50%</th>\n      <td>0.190794</td>\n      <td>0.628133</td>\n      <td>0.528813</td>\n      <td>0.605965</td>\n    </tr>\n    <tr>\n      <th>75%</th>\n      <td>0.651118</td>\n      <td>0.740122</td>\n      <td>0.907969</td>\n      <td>0.683509</td>\n    </tr>\n    <tr>\n      <th>max</th>\n      <td>2.706850</td>\n      <td>1.978757</td>\n      <td>2.605967</td>\n      <td>0.955057</td>\n    </tr>\n  </tbody>\n</table>\n</div>"
     },
     "execution_count": 199,
     "metadata": {},
     "output_type": "execute_result"
    }
   ],
   "source": [
    "df.describe()"
   ]
  },
  {
   "cell_type": "code",
   "execution_count": 200,
   "metadata": {
    "ExecuteTime": {
     "end_time": "2024-02-29T06:33:37.393661Z",
     "start_time": "2024-02-29T06:33:37.389658Z"
    }
   },
   "outputs": [
    {
     "data": {
      "text/plain": "W    float64\nX    float64\nY    float64\nZ    float64\ndtype: object"
     },
     "execution_count": 200,
     "metadata": {},
     "output_type": "execute_result"
    }
   ],
   "source": [
    "df.dtypes"
   ]
  },
  {
   "cell_type": "code",
   "execution_count": 201,
   "metadata": {
    "ExecuteTime": {
     "end_time": "2024-02-29T06:33:37.724235Z",
     "start_time": "2024-02-29T06:33:37.711071Z"
    }
   },
   "outputs": [
    {
     "name": "stdout",
     "output_type": "stream",
     "text": [
      "<class 'pandas.core.frame.DataFrame'>\n",
      "Index: 5 entries, CA to CO\n",
      "Data columns (total 4 columns):\n",
      " #   Column  Non-Null Count  Dtype  \n",
      "---  ------  --------------  -----  \n",
      " 0   W       5 non-null      float64\n",
      " 1   X       5 non-null      float64\n",
      " 2   Y       5 non-null      float64\n",
      " 3   Z       5 non-null      float64\n",
      "dtypes: float64(4)\n",
      "memory usage: 200.0+ bytes\n"
     ]
    }
   ],
   "source": [
    "df.info()"
   ]
  },
  {
   "cell_type": "code",
   "outputs": [
    {
     "data": {
      "text/plain": "W    2.706850\nX    0.628133\nY    0.907969\nZ    0.503826\nName: CA, dtype: float64"
     },
     "execution_count": 221,
     "metadata": {},
     "output_type": "execute_result"
    }
   ],
   "source": [
    "df_CA = df.loc['CA']\n",
    "df_CA"
   ],
   "metadata": {
    "collapsed": false,
    "ExecuteTime": {
     "end_time": "2024-02-29T06:54:36.109950Z",
     "start_time": "2024-02-29T06:54:36.105930Z"
    }
   },
   "execution_count": 221
  },
  {
   "cell_type": "code",
   "outputs": [
    {
     "data": {
      "text/plain": "count    4.000000\nmean     1.186694\nstd      1.027434\nmin      0.503826\n25%      0.597056\n50%      0.768051\n75%      1.357690\nmax      2.706850\nName: CA, dtype: float64"
     },
     "execution_count": 222,
     "metadata": {},
     "output_type": "execute_result"
    }
   ],
   "source": [
    "df_CA.describe()"
   ],
   "metadata": {
    "collapsed": false,
    "ExecuteTime": {
     "end_time": "2024-02-29T06:55:07.007572Z",
     "start_time": "2024-02-29T06:55:07.001949Z"
    }
   },
   "execution_count": 222
  },
  {
   "cell_type": "code",
   "outputs": [
    {
     "data": {
      "text/plain": "               W         X         Y         Z\nStates                                        \nCA      2.706850  0.628133  0.907969  0.503826\nNY      0.651118 -0.319318 -0.848077  0.605965\nWY     -2.018168  0.740122  0.528813 -0.589001\nOR      0.188695 -0.758872 -0.933237  0.955057\nCO      0.190794  1.978757  2.605967  0.683509",
      "text/html": "<div>\n<style scoped>\n    .dataframe tbody tr th:only-of-type {\n        vertical-align: middle;\n    }\n\n    .dataframe tbody tr th {\n        vertical-align: top;\n    }\n\n    .dataframe thead th {\n        text-align: right;\n    }\n</style>\n<table border=\"1\" class=\"dataframe\">\n  <thead>\n    <tr style=\"text-align: right;\">\n      <th></th>\n      <th>W</th>\n      <th>X</th>\n      <th>Y</th>\n      <th>Z</th>\n    </tr>\n    <tr>\n      <th>States</th>\n      <th></th>\n      <th></th>\n      <th></th>\n      <th></th>\n    </tr>\n  </thead>\n  <tbody>\n    <tr>\n      <th>CA</th>\n      <td>2.706850</td>\n      <td>0.628133</td>\n      <td>0.907969</td>\n      <td>0.503826</td>\n    </tr>\n    <tr>\n      <th>NY</th>\n      <td>0.651118</td>\n      <td>-0.319318</td>\n      <td>-0.848077</td>\n      <td>0.605965</td>\n    </tr>\n    <tr>\n      <th>WY</th>\n      <td>-2.018168</td>\n      <td>0.740122</td>\n      <td>0.528813</td>\n      <td>-0.589001</td>\n    </tr>\n    <tr>\n      <th>OR</th>\n      <td>0.188695</td>\n      <td>-0.758872</td>\n      <td>-0.933237</td>\n      <td>0.955057</td>\n    </tr>\n    <tr>\n      <th>CO</th>\n      <td>0.190794</td>\n      <td>1.978757</td>\n      <td>2.605967</td>\n      <td>0.683509</td>\n    </tr>\n  </tbody>\n</table>\n</div>"
     },
     "execution_count": 224,
     "metadata": {},
     "output_type": "execute_result"
    }
   ],
   "source": [
    "# not transposed\n",
    "not_transposed_df = df.iloc[:]\n",
    "not_transposed_df"
   ],
   "metadata": {
    "collapsed": false,
    "ExecuteTime": {
     "end_time": "2024-02-29T06:56:14.785761Z",
     "start_time": "2024-02-29T06:56:14.778766Z"
    }
   },
   "execution_count": 224
  },
  {
   "cell_type": "code",
   "outputs": [
    {
     "data": {
      "text/plain": "States        CA        NY        WY        OR        CO\nW       2.706850  0.651118 -2.018168  0.188695  0.190794\nX       0.628133 -0.319318  0.740122 -0.758872  1.978757\nY       0.907969 -0.848077  0.528813 -0.933237  2.605967\nZ       0.503826  0.605965 -0.589001  0.955057  0.683509",
      "text/html": "<div>\n<style scoped>\n    .dataframe tbody tr th:only-of-type {\n        vertical-align: middle;\n    }\n\n    .dataframe tbody tr th {\n        vertical-align: top;\n    }\n\n    .dataframe thead th {\n        text-align: right;\n    }\n</style>\n<table border=\"1\" class=\"dataframe\">\n  <thead>\n    <tr style=\"text-align: right;\">\n      <th>States</th>\n      <th>CA</th>\n      <th>NY</th>\n      <th>WY</th>\n      <th>OR</th>\n      <th>CO</th>\n    </tr>\n  </thead>\n  <tbody>\n    <tr>\n      <th>W</th>\n      <td>2.706850</td>\n      <td>0.651118</td>\n      <td>-2.018168</td>\n      <td>0.188695</td>\n      <td>0.190794</td>\n    </tr>\n    <tr>\n      <th>X</th>\n      <td>0.628133</td>\n      <td>-0.319318</td>\n      <td>0.740122</td>\n      <td>-0.758872</td>\n      <td>1.978757</td>\n    </tr>\n    <tr>\n      <th>Y</th>\n      <td>0.907969</td>\n      <td>-0.848077</td>\n      <td>0.528813</td>\n      <td>-0.933237</td>\n      <td>2.605967</td>\n    </tr>\n    <tr>\n      <th>Z</th>\n      <td>0.503826</td>\n      <td>0.605965</td>\n      <td>-0.589001</td>\n      <td>0.955057</td>\n      <td>0.683509</td>\n    </tr>\n  </tbody>\n</table>\n</div>"
     },
     "execution_count": 226,
     "metadata": {},
     "output_type": "execute_result"
    }
   ],
   "source": [
    "transposed_df = pd.DataFrame(df.values.T, columns=df.index, index=df.columns)\n",
    "transposed_df"
   ],
   "metadata": {
    "collapsed": false,
    "ExecuteTime": {
     "end_time": "2024-02-29T07:00:18.674472Z",
     "start_time": "2024-02-29T07:00:18.667314Z"
    }
   },
   "execution_count": 226
  },
  {
   "cell_type": "code",
   "outputs": [
    {
     "data": {
      "text/plain": "               W         X         Y         Z\nStates                                        \nCA      2.706850  0.628133  0.907969  0.503826\nNY      0.651118 -0.319318 -0.848077  0.605965\nWY     -2.018168  0.740122  0.528813 -0.589001\nOR      0.188695 -0.758872 -0.933237  0.955057\nCO      0.190794  1.978757  2.605967  0.683509",
      "text/html": "<div>\n<style scoped>\n    .dataframe tbody tr th:only-of-type {\n        vertical-align: middle;\n    }\n\n    .dataframe tbody tr th {\n        vertical-align: top;\n    }\n\n    .dataframe thead th {\n        text-align: right;\n    }\n</style>\n<table border=\"1\" class=\"dataframe\">\n  <thead>\n    <tr style=\"text-align: right;\">\n      <th></th>\n      <th>W</th>\n      <th>X</th>\n      <th>Y</th>\n      <th>Z</th>\n    </tr>\n    <tr>\n      <th>States</th>\n      <th></th>\n      <th></th>\n      <th></th>\n      <th></th>\n    </tr>\n  </thead>\n  <tbody>\n    <tr>\n      <th>CA</th>\n      <td>2.706850</td>\n      <td>0.628133</td>\n      <td>0.907969</td>\n      <td>0.503826</td>\n    </tr>\n    <tr>\n      <th>NY</th>\n      <td>0.651118</td>\n      <td>-0.319318</td>\n      <td>-0.848077</td>\n      <td>0.605965</td>\n    </tr>\n    <tr>\n      <th>WY</th>\n      <td>-2.018168</td>\n      <td>0.740122</td>\n      <td>0.528813</td>\n      <td>-0.589001</td>\n    </tr>\n    <tr>\n      <th>OR</th>\n      <td>0.188695</td>\n      <td>-0.758872</td>\n      <td>-0.933237</td>\n      <td>0.955057</td>\n    </tr>\n    <tr>\n      <th>CO</th>\n      <td>0.190794</td>\n      <td>1.978757</td>\n      <td>2.605967</td>\n      <td>0.683509</td>\n    </tr>\n  </tbody>\n</table>\n</div>"
     },
     "execution_count": 229,
     "metadata": {},
     "output_type": "execute_result"
    }
   ],
   "source": [
    "transposed_df = pd.DataFrame({\n",
    "    col: df[col].values for col in df.columns\n",
    "    }, \n",
    "    index=df.index\n",
    ")\n",
    "transposed_df"
   ],
   "metadata": {
    "collapsed": false,
    "ExecuteTime": {
     "end_time": "2024-02-29T07:01:30.649666Z",
     "start_time": "2024-02-29T07:01:30.643255Z"
    }
   },
   "execution_count": 229
  },
  {
   "cell_type": "code",
   "outputs": [
    {
     "data": {
      "text/plain": "States        CA        NY        WY        OR        CO\nW       2.706850  0.651118 -2.018168  0.188695  0.190794\nX       0.628133 -0.319318  0.740122 -0.758872  1.978757\nY       0.907969 -0.848077  0.528813 -0.933237  2.605967\nZ       0.503826  0.605965 -0.589001  0.955057  0.683509",
      "text/html": "<div>\n<style scoped>\n    .dataframe tbody tr th:only-of-type {\n        vertical-align: middle;\n    }\n\n    .dataframe tbody tr th {\n        vertical-align: top;\n    }\n\n    .dataframe thead th {\n        text-align: right;\n    }\n</style>\n<table border=\"1\" class=\"dataframe\">\n  <thead>\n    <tr style=\"text-align: right;\">\n      <th>States</th>\n      <th>CA</th>\n      <th>NY</th>\n      <th>WY</th>\n      <th>OR</th>\n      <th>CO</th>\n    </tr>\n  </thead>\n  <tbody>\n    <tr>\n      <th>W</th>\n      <td>2.706850</td>\n      <td>0.651118</td>\n      <td>-2.018168</td>\n      <td>0.188695</td>\n      <td>0.190794</td>\n    </tr>\n    <tr>\n      <th>X</th>\n      <td>0.628133</td>\n      <td>-0.319318</td>\n      <td>0.740122</td>\n      <td>-0.758872</td>\n      <td>1.978757</td>\n    </tr>\n    <tr>\n      <th>Y</th>\n      <td>0.907969</td>\n      <td>-0.848077</td>\n      <td>0.528813</td>\n      <td>-0.933237</td>\n      <td>2.605967</td>\n    </tr>\n    <tr>\n      <th>Z</th>\n      <td>0.503826</td>\n      <td>0.605965</td>\n      <td>-0.589001</td>\n      <td>0.955057</td>\n      <td>0.683509</td>\n    </tr>\n  </tbody>\n</table>\n</div>"
     },
     "execution_count": 203,
     "metadata": {},
     "output_type": "execute_result"
    }
   ],
   "source": [
    "df.transpose()"
   ],
   "metadata": {
    "collapsed": false,
    "ExecuteTime": {
     "end_time": "2024-02-29T06:34:16.319988Z",
     "start_time": "2024-02-29T06:34:16.313600Z"
    }
   },
   "execution_count": 203
  },
  {
   "cell_type": "code",
   "outputs": [
    {
     "data": {
      "text/plain": "States        CA        NY        WY        OR        CO\ncount   4.000000  4.000000  4.000000  4.000000  4.000000\nmean    1.186694  0.022422 -0.334558 -0.137089  1.364757\nstd     1.027434  0.732652  1.264863  0.879277  1.119507\nmin     0.503826 -0.848077 -2.018168 -0.933237  0.190794\n25%     0.597056 -0.451508 -0.946292 -0.802463  0.560330\n50%     0.768051  0.143324 -0.030094 -0.285088  1.331133\n75%     1.357690  0.617253  0.581641  0.380286  2.135560\nmax     2.706850  0.651118  0.740122  0.955057  2.605967",
      "text/html": "<div>\n<style scoped>\n    .dataframe tbody tr th:only-of-type {\n        vertical-align: middle;\n    }\n\n    .dataframe tbody tr th {\n        vertical-align: top;\n    }\n\n    .dataframe thead th {\n        text-align: right;\n    }\n</style>\n<table border=\"1\" class=\"dataframe\">\n  <thead>\n    <tr style=\"text-align: right;\">\n      <th>States</th>\n      <th>CA</th>\n      <th>NY</th>\n      <th>WY</th>\n      <th>OR</th>\n      <th>CO</th>\n    </tr>\n  </thead>\n  <tbody>\n    <tr>\n      <th>count</th>\n      <td>4.000000</td>\n      <td>4.000000</td>\n      <td>4.000000</td>\n      <td>4.000000</td>\n      <td>4.000000</td>\n    </tr>\n    <tr>\n      <th>mean</th>\n      <td>1.186694</td>\n      <td>0.022422</td>\n      <td>-0.334558</td>\n      <td>-0.137089</td>\n      <td>1.364757</td>\n    </tr>\n    <tr>\n      <th>std</th>\n      <td>1.027434</td>\n      <td>0.732652</td>\n      <td>1.264863</td>\n      <td>0.879277</td>\n      <td>1.119507</td>\n    </tr>\n    <tr>\n      <th>min</th>\n      <td>0.503826</td>\n      <td>-0.848077</td>\n      <td>-2.018168</td>\n      <td>-0.933237</td>\n      <td>0.190794</td>\n    </tr>\n    <tr>\n      <th>25%</th>\n      <td>0.597056</td>\n      <td>-0.451508</td>\n      <td>-0.946292</td>\n      <td>-0.802463</td>\n      <td>0.560330</td>\n    </tr>\n    <tr>\n      <th>50%</th>\n      <td>0.768051</td>\n      <td>0.143324</td>\n      <td>-0.030094</td>\n      <td>-0.285088</td>\n      <td>1.331133</td>\n    </tr>\n    <tr>\n      <th>75%</th>\n      <td>1.357690</td>\n      <td>0.617253</td>\n      <td>0.581641</td>\n      <td>0.380286</td>\n      <td>2.135560</td>\n    </tr>\n    <tr>\n      <th>max</th>\n      <td>2.706850</td>\n      <td>0.651118</td>\n      <td>0.740122</td>\n      <td>0.955057</td>\n      <td>2.605967</td>\n    </tr>\n  </tbody>\n</table>\n</div>"
     },
     "execution_count": 204,
     "metadata": {},
     "output_type": "execute_result"
    }
   ],
   "source": [
    "df.transpose().describe()"
   ],
   "metadata": {
    "collapsed": false,
    "ExecuteTime": {
     "end_time": "2024-02-29T06:34:37.040479Z",
     "start_time": "2024-02-29T06:34:37.026024Z"
    }
   },
   "execution_count": 204
  },
  {
   "cell_type": "code",
   "outputs": [
    {
     "data": {
      "text/plain": "States\nCA     True\nNY     True\nWY    False\nOR     True\nCO     True\nName: W, dtype: bool"
     },
     "execution_count": 207,
     "metadata": {},
     "output_type": "execute_result"
    }
   ],
   "source": [
    "ser_w = df['W'] > 0\n",
    "\n",
    "ser_w"
   ],
   "metadata": {
    "collapsed": false,
    "ExecuteTime": {
     "end_time": "2024-02-29T06:35:52.567869Z",
     "start_time": "2024-02-29T06:35:52.563438Z"
    }
   },
   "execution_count": 207
  },
  {
   "cell_type": "code",
   "outputs": [
    {
     "data": {
      "text/plain": "4"
     },
     "execution_count": 208,
     "metadata": {},
     "output_type": "execute_result"
    }
   ],
   "source": [
    "sum(ser_w)"
   ],
   "metadata": {
    "collapsed": false,
    "ExecuteTime": {
     "end_time": "2024-02-29T06:35:58.205034Z",
     "start_time": "2024-02-29T06:35:58.201034Z"
    }
   },
   "execution_count": 208
  },
  {
   "cell_type": "code",
   "outputs": [
    {
     "data": {
      "text/plain": "5"
     },
     "execution_count": 213,
     "metadata": {},
     "output_type": "execute_result"
    }
   ],
   "source": [
    "len(ser_w)"
   ],
   "metadata": {
    "collapsed": false,
    "ExecuteTime": {
     "end_time": "2024-02-29T06:37:27.963900Z",
     "start_time": "2024-02-29T06:37:27.960904Z"
    }
   },
   "execution_count": 213
  },
  {
   "cell_type": "code",
   "outputs": [
    {
     "data": {
      "text/plain": "0.8"
     },
     "execution_count": 214,
     "metadata": {},
     "output_type": "execute_result"
    }
   ],
   "source": [
    "sum(ser_w) / len(ser_w)"
   ],
   "metadata": {
    "collapsed": false,
    "ExecuteTime": {
     "end_time": "2024-02-29T06:37:45.765403Z",
     "start_time": "2024-02-29T06:37:45.761892Z"
    }
   },
   "execution_count": 214
  },
  {
   "cell_type": "code",
   "outputs": [
    {
     "data": {
      "text/plain": "W    2.706850\nX    0.628133\nY    0.907969\nZ    0.503826\nName: CA, dtype: float64"
     },
     "execution_count": 211,
     "metadata": {},
     "output_type": "execute_result"
    }
   ],
   "source": [
    "row_CA = df.loc['CA']\n",
    "\n",
    "row_CA"
   ],
   "metadata": {
    "collapsed": false,
    "ExecuteTime": {
     "end_time": "2024-02-29T06:37:02.237451Z",
     "start_time": "2024-02-29T06:37:02.232888Z"
    }
   },
   "execution_count": 211
  },
  {
   "cell_type": "code",
   "outputs": [
    {
     "data": {
      "text/plain": "4.746777748483335"
     },
     "execution_count": 212,
     "metadata": {},
     "output_type": "execute_result"
    }
   ],
   "source": [
    "sum(row_CA)"
   ],
   "metadata": {
    "collapsed": false,
    "ExecuteTime": {
     "end_time": "2024-02-29T06:37:12.668100Z",
     "start_time": "2024-02-29T06:37:12.664726Z"
    }
   },
   "execution_count": 212
  }
 ],
 "metadata": {
  "kernelspec": {
   "display_name": "Python 3 (ipykernel)",
   "language": "python",
   "name": "python3"
  },
  "language_info": {
   "codemirror_mode": {
    "name": "ipython",
    "version": 3
   },
   "file_extension": ".py",
   "mimetype": "text/x-python",
   "name": "python",
   "nbconvert_exporter": "python",
   "pygments_lexer": "ipython3",
   "version": "3.11.5"
  }
 },
 "nbformat": 4,
 "nbformat_minor": 1
}

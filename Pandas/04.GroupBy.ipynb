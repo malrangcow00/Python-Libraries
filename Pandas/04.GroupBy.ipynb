{
 "cells": [
  {
   "cell_type": "markdown",
   "metadata": {
    "collapsed": true
   },
   "source": [
    "# Groupby\n",
    "\n",
    "The groupby method allows you to group rows of data together and call aggregate functions"
   ]
  },
  {
   "cell_type": "code",
   "execution_count": 1,
   "metadata": {
    "collapsed": true,
    "ExecuteTime": {
     "end_time": "2024-03-06T08:32:00.575248Z",
     "start_time": "2024-03-06T08:32:00.130913Z"
    }
   },
   "outputs": [],
   "source": [
    "import pandas as pd\n",
    "# Create dataframe\n",
    "data = {'Company':['Google','Google','MS','MS','Meta','Meta'],\n",
    "       'Person':['Sam','Charlie','Amy','Vanessa','Carl','Sarah'],\n",
    "       'Sales':[200,120,340,124,243,350]}"
   ]
  },
  {
   "cell_type": "code",
   "execution_count": 2,
   "metadata": {
    "ExecuteTime": {
     "end_time": "2024-03-06T08:32:00.586834Z",
     "start_time": "2024-03-06T08:32:00.576249Z"
    }
   },
   "outputs": [
    {
     "data": {
      "text/plain": "  Company   Person  Sales\n0  Google      Sam    200\n1  Google  Charlie    120\n2      MS      Amy    340\n3      MS  Vanessa    124\n4    Meta     Carl    243\n5    Meta    Sarah    350",
      "text/html": "<div>\n<style scoped>\n    .dataframe tbody tr th:only-of-type {\n        vertical-align: middle;\n    }\n\n    .dataframe tbody tr th {\n        vertical-align: top;\n    }\n\n    .dataframe thead th {\n        text-align: right;\n    }\n</style>\n<table border=\"1\" class=\"dataframe\">\n  <thead>\n    <tr style=\"text-align: right;\">\n      <th></th>\n      <th>Company</th>\n      <th>Person</th>\n      <th>Sales</th>\n    </tr>\n  </thead>\n  <tbody>\n    <tr>\n      <th>0</th>\n      <td>Google</td>\n      <td>Sam</td>\n      <td>200</td>\n    </tr>\n    <tr>\n      <th>1</th>\n      <td>Google</td>\n      <td>Charlie</td>\n      <td>120</td>\n    </tr>\n    <tr>\n      <th>2</th>\n      <td>MS</td>\n      <td>Amy</td>\n      <td>340</td>\n    </tr>\n    <tr>\n      <th>3</th>\n      <td>MS</td>\n      <td>Vanessa</td>\n      <td>124</td>\n    </tr>\n    <tr>\n      <th>4</th>\n      <td>Meta</td>\n      <td>Carl</td>\n      <td>243</td>\n    </tr>\n    <tr>\n      <th>5</th>\n      <td>Meta</td>\n      <td>Sarah</td>\n      <td>350</td>\n    </tr>\n  </tbody>\n</table>\n</div>"
     },
     "execution_count": 2,
     "metadata": {},
     "output_type": "execute_result"
    }
   ],
   "source": [
    "df = pd.DataFrame(data)\n",
    "df"
   ]
  },
  {
   "cell_type": "markdown",
   "metadata": {},
   "source": [
    "<strong>Now you can use the .groupby() method to group rows together based off of a column name.<br>For instance let's group based off of Company. This will create a DataFrameGroupBy object:</strong>"
   ]
  },
  {
   "cell_type": "code",
   "execution_count": 3,
   "metadata": {
    "ExecuteTime": {
     "end_time": "2024-03-06T08:32:00.595375Z",
     "start_time": "2024-03-06T08:32:00.587833Z"
    }
   },
   "outputs": [
    {
     "data": {
      "text/plain": "Company\nGoogle    160.0\nMS        232.0\nMeta      296.5\nName: Sales, dtype: float64"
     },
     "execution_count": 3,
     "metadata": {},
     "output_type": "execute_result"
    }
   ],
   "source": [
    "# normally a latest version of pandas can show the result of groupby directly (without using ['Sales'])\n",
    "df.groupby('Company')['Sales'].mean()"
   ]
  },
  {
   "cell_type": "markdown",
   "metadata": {},
   "source": [
    "You can save this object as a new variable:"
   ]
  },
  {
   "cell_type": "code",
   "execution_count": 4,
   "metadata": {
    "collapsed": true,
    "ExecuteTime": {
     "end_time": "2024-03-06T08:32:00.599222Z",
     "start_time": "2024-03-06T08:32:00.596378Z"
    }
   },
   "outputs": [],
   "source": [
    "by_comp = df.groupby(\"Company\")['Sales']"
   ]
  },
  {
   "cell_type": "markdown",
   "metadata": {},
   "source": [
    "And then call aggregate methods off the object:"
   ]
  },
  {
   "cell_type": "code",
   "execution_count": 5,
   "metadata": {
    "ExecuteTime": {
     "end_time": "2024-03-06T08:32:00.604541Z",
     "start_time": "2024-03-06T08:32:00.600225Z"
    }
   },
   "outputs": [
    {
     "data": {
      "text/plain": "Company\nGoogle    160.0\nMS        232.0\nMeta      296.5\nName: Sales, dtype: float64"
     },
     "execution_count": 5,
     "metadata": {},
     "output_type": "execute_result"
    }
   ],
   "source": [
    "by_comp.mean()"
   ]
  },
  {
   "cell_type": "markdown",
   "source": [
    "Company는 Column이 아닌 Index이므로 주의 !"
   ],
   "metadata": {
    "collapsed": false
   }
  },
  {
   "cell_type": "code",
   "execution_count": 6,
   "metadata": {
    "ExecuteTime": {
     "end_time": "2024-03-06T08:32:00.609758Z",
     "start_time": "2024-03-06T08:32:00.605539Z"
    }
   },
   "outputs": [
    {
     "data": {
      "text/plain": "Company\nGoogle    160.0\nMS        232.0\nMeta      296.5\nName: Sales, dtype: float64"
     },
     "execution_count": 6,
     "metadata": {},
     "output_type": "execute_result"
    }
   ],
   "source": [
    "df.groupby('Company')['Sales'].mean()"
   ]
  },
  {
   "cell_type": "markdown",
   "metadata": {},
   "source": [
    "More examples of aggregate methods:"
   ]
  },
  {
   "cell_type": "code",
   "execution_count": 7,
   "metadata": {
    "ExecuteTime": {
     "end_time": "2024-03-06T08:32:00.614396Z",
     "start_time": "2024-03-06T08:32:00.609758Z"
    }
   },
   "outputs": [
    {
     "data": {
      "text/plain": "Company\nGoogle     56.568542\nMS        152.735065\nMeta       75.660426\nName: Sales, dtype: float64"
     },
     "execution_count": 7,
     "metadata": {},
     "output_type": "execute_result"
    }
   ],
   "source": [
    "# standard deviation\n",
    "by_comp.std()"
   ]
  },
  {
   "cell_type": "code",
   "execution_count": 8,
   "metadata": {
    "ExecuteTime": {
     "end_time": "2024-03-06T08:32:00.619183Z",
     "start_time": "2024-03-06T08:32:00.615395Z"
    }
   },
   "outputs": [
    {
     "data": {
      "text/plain": "Company\nGoogle    120\nMS        124\nMeta      243\nName: Sales, dtype: int64"
     },
     "execution_count": 8,
     "metadata": {},
     "output_type": "execute_result"
    }
   ],
   "source": [
    "by_comp.min()"
   ]
  },
  {
   "cell_type": "code",
   "execution_count": 9,
   "metadata": {
    "ExecuteTime": {
     "end_time": "2024-03-06T08:32:00.623526Z",
     "start_time": "2024-03-06T08:32:00.619183Z"
    }
   },
   "outputs": [
    {
     "data": {
      "text/plain": "Company\nGoogle    200\nMS        340\nMeta      350\nName: Sales, dtype: int64"
     },
     "execution_count": 9,
     "metadata": {},
     "output_type": "execute_result"
    }
   ],
   "source": [
    "by_comp.max()"
   ]
  },
  {
   "cell_type": "code",
   "execution_count": 10,
   "metadata": {
    "ExecuteTime": {
     "end_time": "2024-03-06T08:32:00.627735Z",
     "start_time": "2024-03-06T08:32:00.623526Z"
    }
   },
   "outputs": [
    {
     "data": {
      "text/plain": "Company\nGoogle    2\nMS        2\nMeta      2\nName: Sales, dtype: int64"
     },
     "execution_count": 10,
     "metadata": {},
     "output_type": "execute_result"
    }
   ],
   "source": [
    "by_comp.count()"
   ]
  },
  {
   "cell_type": "code",
   "execution_count": 11,
   "metadata": {
    "ExecuteTime": {
     "end_time": "2024-03-06T08:32:00.640323Z",
     "start_time": "2024-03-06T08:32:00.627735Z"
    }
   },
   "outputs": [
    {
     "data": {
      "text/plain": "         count   mean         std    min     25%    50%     75%    max\nCompany                                                               \nGoogle     2.0  160.0   56.568542  120.0  140.00  160.0  180.00  200.0\nMS         2.0  232.0  152.735065  124.0  178.00  232.0  286.00  340.0\nMeta       2.0  296.5   75.660426  243.0  269.75  296.5  323.25  350.0",
      "text/html": "<div>\n<style scoped>\n    .dataframe tbody tr th:only-of-type {\n        vertical-align: middle;\n    }\n\n    .dataframe tbody tr th {\n        vertical-align: top;\n    }\n\n    .dataframe thead th {\n        text-align: right;\n    }\n</style>\n<table border=\"1\" class=\"dataframe\">\n  <thead>\n    <tr style=\"text-align: right;\">\n      <th></th>\n      <th>count</th>\n      <th>mean</th>\n      <th>std</th>\n      <th>min</th>\n      <th>25%</th>\n      <th>50%</th>\n      <th>75%</th>\n      <th>max</th>\n    </tr>\n    <tr>\n      <th>Company</th>\n      <th></th>\n      <th></th>\n      <th></th>\n      <th></th>\n      <th></th>\n      <th></th>\n      <th></th>\n      <th></th>\n    </tr>\n  </thead>\n  <tbody>\n    <tr>\n      <th>Google</th>\n      <td>2.0</td>\n      <td>160.0</td>\n      <td>56.568542</td>\n      <td>120.0</td>\n      <td>140.00</td>\n      <td>160.0</td>\n      <td>180.00</td>\n      <td>200.0</td>\n    </tr>\n    <tr>\n      <th>MS</th>\n      <td>2.0</td>\n      <td>232.0</td>\n      <td>152.735065</td>\n      <td>124.0</td>\n      <td>178.00</td>\n      <td>232.0</td>\n      <td>286.00</td>\n      <td>340.0</td>\n    </tr>\n    <tr>\n      <th>Meta</th>\n      <td>2.0</td>\n      <td>296.5</td>\n      <td>75.660426</td>\n      <td>243.0</td>\n      <td>269.75</td>\n      <td>296.5</td>\n      <td>323.25</td>\n      <td>350.0</td>\n    </tr>\n  </tbody>\n</table>\n</div>"
     },
     "execution_count": 11,
     "metadata": {},
     "output_type": "execute_result"
    }
   ],
   "source": [
    "by_comp.describe()"
   ]
  },
  {
   "cell_type": "code",
   "execution_count": 12,
   "metadata": {
    "ExecuteTime": {
     "end_time": "2024-03-06T08:32:00.649810Z",
     "start_time": "2024-03-06T08:32:00.640323Z"
    }
   },
   "outputs": [
    {
     "data": {
      "text/plain": "Company      Google          MS        Meta\ncount      2.000000    2.000000    2.000000\nmean     160.000000  232.000000  296.500000\nstd       56.568542  152.735065   75.660426\nmin      120.000000  124.000000  243.000000\n25%      140.000000  178.000000  269.750000\n50%      160.000000  232.000000  296.500000\n75%      180.000000  286.000000  323.250000\nmax      200.000000  340.000000  350.000000",
      "text/html": "<div>\n<style scoped>\n    .dataframe tbody tr th:only-of-type {\n        vertical-align: middle;\n    }\n\n    .dataframe tbody tr th {\n        vertical-align: top;\n    }\n\n    .dataframe thead th {\n        text-align: right;\n    }\n</style>\n<table border=\"1\" class=\"dataframe\">\n  <thead>\n    <tr style=\"text-align: right;\">\n      <th>Company</th>\n      <th>Google</th>\n      <th>MS</th>\n      <th>Meta</th>\n    </tr>\n  </thead>\n  <tbody>\n    <tr>\n      <th>count</th>\n      <td>2.000000</td>\n      <td>2.000000</td>\n      <td>2.000000</td>\n    </tr>\n    <tr>\n      <th>mean</th>\n      <td>160.000000</td>\n      <td>232.000000</td>\n      <td>296.500000</td>\n    </tr>\n    <tr>\n      <th>std</th>\n      <td>56.568542</td>\n      <td>152.735065</td>\n      <td>75.660426</td>\n    </tr>\n    <tr>\n      <th>min</th>\n      <td>120.000000</td>\n      <td>124.000000</td>\n      <td>243.000000</td>\n    </tr>\n    <tr>\n      <th>25%</th>\n      <td>140.000000</td>\n      <td>178.000000</td>\n      <td>269.750000</td>\n    </tr>\n    <tr>\n      <th>50%</th>\n      <td>160.000000</td>\n      <td>232.000000</td>\n      <td>296.500000</td>\n    </tr>\n    <tr>\n      <th>75%</th>\n      <td>180.000000</td>\n      <td>286.000000</td>\n      <td>323.250000</td>\n    </tr>\n    <tr>\n      <th>max</th>\n      <td>200.000000</td>\n      <td>340.000000</td>\n      <td>350.000000</td>\n    </tr>\n  </tbody>\n</table>\n</div>"
     },
     "execution_count": 12,
     "metadata": {},
     "output_type": "execute_result"
    }
   ],
   "source": [
    "by_comp.describe().transpose()"
   ]
  },
  {
   "cell_type": "code",
   "execution_count": 13,
   "metadata": {
    "ExecuteTime": {
     "end_time": "2024-03-06T08:32:00.657186Z",
     "start_time": "2024-03-06T08:32:00.649810Z"
    }
   },
   "outputs": [
    {
     "data": {
      "text/plain": "count      2.000000\nmean     160.000000\nstd       56.568542\nmin      120.000000\n25%      140.000000\n50%      160.000000\n75%      180.000000\nmax      200.000000\nName: Google, dtype: float64"
     },
     "execution_count": 13,
     "metadata": {},
     "output_type": "execute_result"
    }
   ],
   "source": [
    "by_comp.describe().transpose()['Google']"
   ]
  }
 ],
 "metadata": {
  "kernelspec": {
   "display_name": "Python 3",
   "language": "python",
   "name": "python3"
  },
  "language_info": {
   "codemirror_mode": {
    "name": "ipython",
    "version": 3
   },
   "file_extension": ".py",
   "mimetype": "text/x-python",
   "name": "python",
   "nbconvert_exporter": "python",
   "pygments_lexer": "ipython3",
   "version": "3.7.2"
  }
 },
 "nbformat": 4,
 "nbformat_minor": 1
}
